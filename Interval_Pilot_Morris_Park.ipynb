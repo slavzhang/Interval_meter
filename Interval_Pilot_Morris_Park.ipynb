{
 "cells": [
  {
   "cell_type": "code",
   "execution_count": 19,
   "metadata": {},
   "outputs": [],
   "source": [
    "import pandas as pd\n",
    "import numpy as np\n",
    "import datetime\n",
    "import sqlite3\n",
    "from pandas.tseries.holiday import USFederalHolidayCalendar as uscal\n",
    "\n",
    "import requests\n",
    "import json\n",
    "import glob\n",
    "import gzip\n",
    "\n",
    "import matplotlib.pyplot as plt\n",
    "import seaborn as sns\n",
    "\n",
    "import statsmodels.api as sm\n",
    "from sklearn.linear_model import LinearRegression\n",
    "from sklearn import model_selection\n",
    "from sklearn.model_selection import KFold\n",
    "from sklearn.model_selection import train_test_split\n",
    "from sklearn.metrics import mean_absolute_error,mean_squared_error\n",
    "from sklearn.metrics import mean_absolute_percentage_error\n",
    "from sklearn.feature_selection import SelectKBest\n",
    "from sklearn.feature_selection import f_classif\n",
    "\n",
    "import xgboost\n",
    "from sklearn.ensemble import RandomForestRegressor\n",
    "from sklearn.svm import SVR\n",
    "%matplotlib inline"
   ]
  },
  {
   "cell_type": "code",
   "execution_count": 9,
   "metadata": {},
   "outputs": [],
   "source": [
    "names = glob.glob('*.csv')\n",
    "df_raw = pd.DataFrame()\n",
    "for i in names:\n",
    "    a = pd.read_csv(i)\n",
    "    df_raw = pd.concat([a, df_mp])"
   ]
  },
  {
   "cell_type": "code",
   "execution_count": 12,
   "metadata": {
    "scrolled": true
   },
   "outputs": [],
   "source": [
    "df_mp = df_raw.reset_index()\n",
    "df_mp['Timestamp'] = pd.to_datetime(df_mp['Timestamp'])\n",
    "df_mp['date'] = df_mp['Timestamp'].dt.date"
   ]
  },
  {
   "cell_type": "code",
   "execution_count": 15,
   "metadata": {},
   "outputs": [
    {
     "name": "stderr",
     "output_type": "stream",
     "text": [
      "C:\\Users\\szhang\\AppData\\Local\\Continuum\\anaconda3\\lib\\site-packages\\ipykernel_launcher.py:19: SettingWithCopyWarning: \n",
      "A value is trying to be set on a copy of a slice from a DataFrame\n",
      "\n",
      "See the caveats in the documentation: http://pandas.pydata.org/pandas-docs/stable/indexing.html#indexing-view-versus-copy\n",
      "C:\\Users\\szhang\\AppData\\Local\\Continuum\\anaconda3\\lib\\site-packages\\pandas\\core\\indexing.py:190: SettingWithCopyWarning: \n",
      "A value is trying to be set on a copy of a slice from a DataFrame\n",
      "\n",
      "See the caveats in the documentation: http://pandas.pydata.org/pandas-docs/stable/indexing.html#indexing-view-versus-copy\n",
      "  self._setitem_with_indexer(indexer, value)\n",
      "C:\\Users\\szhang\\AppData\\Local\\Continuum\\anaconda3\\lib\\site-packages\\ipykernel_launcher.py:20: SettingWithCopyWarning: \n",
      "A value is trying to be set on a copy of a slice from a DataFrame\n",
      "\n",
      "See the caveats in the documentation: http://pandas.pydata.org/pandas-docs/stable/indexing.html#indexing-view-versus-copy\n"
     ]
    }
   ],
   "source": [
    "df_mp['sunrise'] = 0\n",
    "df_mp['sunset'] = 0\n",
    "\n",
    "def data_sunrise(date):\n",
    "    url = 'https://api.sunrise-sunset.org/json?lat=40.82014&lng=-73.92255&date={}'.format(date)\n",
    "    info = requests.get(url)\n",
    "    new = json.loads(info.text)\n",
    "    return new['results']['sunrise']\n",
    "\n",
    "def data_sunset(date):\n",
    "    url = 'https://api.sunrise-sunset.org/json?lat=37.97192&lng=-122.51619&date={}'.format(date)\n",
    "    info = requests.get(url)\n",
    "    new = json.loads(info.text)\n",
    "    return new['results']['sunset']\n",
    "\n",
    "for i in range(len(df_mp)):\n",
    "\n",
    "    \n",
    "    df_mp['sunrise'][i]= data_sunrise(df_mp['date'][i])\n",
    "    df_mp['sunset'][i]= data_sunset(df_mp['date'][i])\n"
   ]
  },
  {
   "cell_type": "code",
   "execution_count": 17,
   "metadata": {},
   "outputs": [
    {
     "name": "stderr",
     "output_type": "stream",
     "text": [
      "C:\\Users\\szhang\\AppData\\Local\\Continuum\\anaconda3\\lib\\site-packages\\IPython\\core\\interactiveshell.py:3296: FutureWarning: Passing timedelta64-dtype data is deprecated, will raise a TypeError in a future version\n",
      "  exec(code_obj, self.user_global_ns, self.user_ns)\n"
     ]
    }
   ],
   "source": [
    "df_mp['sunrise_est'] = pd.to_datetime(df_mp['sunrise'] - pd.Timedelta(hours=4)).dt.time\n",
    "df_mp['sunset_est'] = pd.to_datetime(df_mp['sunset'] - pd.Timedelta(hours=4)).dt.time"
   ]
  },
  {
   "cell_type": "code",
   "execution_count": 18,
   "metadata": {},
   "outputs": [],
   "source": [
    "df_mp.to_csv('data_sunhour.csv')"
   ]
  },
  {
   "cell_type": "code",
   "execution_count": 137,
   "metadata": {},
   "outputs": [],
   "source": [
    "df_mp = pd.read_csv('data_sunhour.csv')"
   ]
  },
  {
   "cell_type": "code",
   "execution_count": 138,
   "metadata": {},
   "outputs": [],
   "source": [
    "df_mp = df_mp.rename(columns = {'655 Morris Ave Cellar Electric Meter Room meter electric EM-1':'655_Morris',\n",
    "                       '2980 Park Ave Cellar Electric Meter Room meter electric EM-1':'2980_Park'})"
   ]
  },
  {
   "cell_type": "code",
   "execution_count": 139,
   "metadata": {},
   "outputs": [
    {
     "data": {
      "text/plain": [
       "('2021-06-08 12:45:00', '2021-09-16 15:30:00')"
      ]
     },
     "execution_count": 139,
     "metadata": {},
     "output_type": "execute_result"
    }
   ],
   "source": [
    "min(df_mp.Timestamp), max(df_mp.Timestamp)"
   ]
  },
  {
   "cell_type": "code",
   "execution_count": 140,
   "metadata": {},
   "outputs": [],
   "source": [
    "# weather\n",
    "weather_x = pd.read_csv('1276283e695618f359b6aad0226280e0.tar.gz',\n",
    "                     compression='gzip', header=1)"
   ]
  },
  {
   "cell_type": "code",
   "execution_count": 141,
   "metadata": {},
   "outputs": [],
   "source": [
    "weather = weather_x[['dt_iso',  'temp',\n",
    "       'feels_like', 'pressure', 'humidity', \n",
    "        'wind_speed', 'wind_deg', 'rain_1h',\n",
    "       'clouds_all', 'weather_main', 'weather_description']]\n",
    "weather = weather.drop_duplicates(subset='dt_iso', keep='first')"
   ]
  },
  {
   "cell_type": "code",
   "execution_count": 142,
   "metadata": {},
   "outputs": [
    {
     "data": {
      "text/html": [
       "<div>\n",
       "<style scoped>\n",
       "    .dataframe tbody tr th:only-of-type {\n",
       "        vertical-align: middle;\n",
       "    }\n",
       "\n",
       "    .dataframe tbody tr th {\n",
       "        vertical-align: top;\n",
       "    }\n",
       "\n",
       "    .dataframe thead th {\n",
       "        text-align: right;\n",
       "    }\n",
       "</style>\n",
       "<table border=\"1\" class=\"dataframe\">\n",
       "  <thead>\n",
       "    <tr style=\"text-align: right;\">\n",
       "      <th></th>\n",
       "      <th>dt_iso</th>\n",
       "      <th>temp</th>\n",
       "      <th>feels_like</th>\n",
       "      <th>pressure</th>\n",
       "      <th>humidity</th>\n",
       "      <th>wind_speed</th>\n",
       "      <th>wind_deg</th>\n",
       "      <th>rain_1h</th>\n",
       "      <th>clouds_all</th>\n",
       "      <th>weather_main</th>\n",
       "      <th>weather_description</th>\n",
       "    </tr>\n",
       "  </thead>\n",
       "  <tbody>\n",
       "    <tr>\n",
       "      <th>0</th>\n",
       "      <td>2006-01-01 00:00:00 +0000 UTC</td>\n",
       "      <td>1.01</td>\n",
       "      <td>-3.42</td>\n",
       "      <td>1009.0</td>\n",
       "      <td>88.0</td>\n",
       "      <td>4.6</td>\n",
       "      <td>360.0</td>\n",
       "      <td>0.19</td>\n",
       "      <td>90.0</td>\n",
       "      <td>Mist</td>\n",
       "      <td>mist</td>\n",
       "    </tr>\n",
       "    <tr>\n",
       "      <th>2</th>\n",
       "      <td>2006-01-01 01:00:00 +0000 UTC</td>\n",
       "      <td>0.56</td>\n",
       "      <td>-3.66</td>\n",
       "      <td>1009.0</td>\n",
       "      <td>88.0</td>\n",
       "      <td>4.1</td>\n",
       "      <td>360.0</td>\n",
       "      <td>NaN</td>\n",
       "      <td>90.0</td>\n",
       "      <td>Snow</td>\n",
       "      <td>light snow</td>\n",
       "    </tr>\n",
       "  </tbody>\n",
       "</table>\n",
       "</div>"
      ],
      "text/plain": [
       "                          dt_iso  temp  feels_like  pressure  humidity  \\\n",
       "0  2006-01-01 00:00:00 +0000 UTC  1.01       -3.42    1009.0      88.0   \n",
       "2  2006-01-01 01:00:00 +0000 UTC  0.56       -3.66    1009.0      88.0   \n",
       "\n",
       "   wind_speed  wind_deg  rain_1h  clouds_all weather_main weather_description  \n",
       "0         4.6     360.0     0.19        90.0         Mist                mist  \n",
       "2         4.1     360.0      NaN        90.0         Snow          light snow  "
      ]
     },
     "execution_count": 142,
     "metadata": {},
     "output_type": "execute_result"
    }
   ],
   "source": [
    "weather.head(2)"
   ]
  },
  {
   "cell_type": "code",
   "execution_count": 167,
   "metadata": {},
   "outputs": [],
   "source": [
    "weather['timestamp'] = pd.to_datetime(weather.dt_iso.str.split('+').str[0])\n",
    "weather['timestamp'] = pd.to_datetime(weather['timestamp'] - pd.Timedelta(hours=4))\n",
    "wed_range = weather[(weather['timestamp'] > pd.to_datetime('2021-06-08 11:00:00')) & (weather['timestamp'] < pd.to_datetime('2021-09-16 15:30:00'))].reset_index(drop=True)\n",
    "wed_range['timestamp'] = pd.to_datetime(wed_range['timestamp'])"
   ]
  },
  {
   "cell_type": "code",
   "execution_count": 168,
   "metadata": {},
   "outputs": [],
   "source": [
    "df_mp['Morris_u'] = df_mp['655_Morris'].str.replace('kWh', '').astype(float)\n",
    "df_mp['Park_u'] = df_mp['2980_Park'].str.replace('kWh', '').astype(float)\n",
    "df_mp['Timestamp'] = pd.to_datetime(df_mp['Timestamp'])\n",
    "df_mp['date'] = df_mp['Timestamp'].dt.date\n",
    "df_mp['hour'] = df_mp['Timestamp'].dt.hour\n",
    "df_mp['hour'] = pd.to_timedelta(df_mp['hour'], unit='h')\n",
    "df_mp['timestamp_hour'] = pd.to_datetime(df_mp['date']) + df_mp['hour']"
   ]
  },
  {
   "cell_type": "code",
   "execution_count": 169,
   "metadata": {},
   "outputs": [
    {
     "data": {
      "text/plain": [
       "Index(['Unnamed: 0', 'index', 'Timestamp', '655_Morris', '2980_Park', 'date',\n",
       "       'sunrise', 'sunset', 'sunrise_est', 'sunset_est', 'Morris_u', 'Park_u',\n",
       "       'hour', 'timestamp_hour'],\n",
       "      dtype='object')"
      ]
     },
     "execution_count": 169,
     "metadata": {},
     "output_type": "execute_result"
    }
   ],
   "source": [
    "df_mp.columns"
   ]
  },
  {
   "cell_type": "code",
   "execution_count": 170,
   "metadata": {},
   "outputs": [
    {
     "name": "stderr",
     "output_type": "stream",
     "text": [
      "C:\\Users\\szhang\\AppData\\Local\\Continuum\\anaconda3\\lib\\site-packages\\pandas\\io\\sql.py:460: UserWarning: the 'timedelta' type is not supported, and will be written as integer values (ns frequency) to the database.\n",
      "  chunksize=chunksize, dtype=dtype, method=method)\n",
      "C:\\Users\\szhang\\AppData\\Local\\Continuum\\anaconda3\\lib\\site-packages\\pandas\\core\\generic.py:2531: UserWarning: The spaces in these column names will not be changed. In pandas versions < 0.14, spaces were converted to underscores.\n",
      "  dtype=dtype, method=method)\n"
     ]
    }
   ],
   "source": [
    "#put df into memory space as db\n",
    "conn = sqlite3.connect(':memory:')\n",
    "#write the tables\n",
    "df_mp.to_sql('data', conn, index=False)"
   ]
  },
  {
   "cell_type": "code",
   "execution_count": 171,
   "metadata": {},
   "outputs": [],
   "source": [
    "# using SQL to create new column faster\n",
    "qry = '''\n",
    "select Timestamp, date,\n",
    "       sunrise_est, sunset_est, Morris_u, Park_u,\n",
    "       hour, timestamp_hour,\n",
    "CASE\n",
    "when time(timestamp_hour) > time(sunrise_est) and time(timestamp_hour) < time(sunset_est) THEN \"Yes\"\n",
    "else \"No\"\n",
    "END as Sunlight\n",
    "from data\n",
    "\n",
    "'''\n",
    "mp_hour = pd.read_sql_query(qry, conn)"
   ]
  },
  {
   "cell_type": "code",
   "execution_count": 190,
   "metadata": {},
   "outputs": [],
   "source": [
    "mp_hour['timestamp_hour'] = pd.to_datetime(mp_hour['timestamp_hour'])\n",
    "mp_hour_sum = pd.DataFrame(mp_hour.groupby(['timestamp_hour'])['Morris_u', 'Park_u'].sum()).reset_index()"
   ]
  },
  {
   "cell_type": "code",
   "execution_count": 192,
   "metadata": {},
   "outputs": [],
   "source": [
    "hours_weather = pd.merge(mp_hour_sum, wed_range, \n",
    "        left_on='timestamp_hour', right_on='timestamp', how = 'left')"
   ]
  },
  {
   "cell_type": "code",
   "execution_count": 194,
   "metadata": {},
   "outputs": [],
   "source": [
    "df_model = hours_weather[['timestamp_hour', 'Morris_u',\n",
    "                          'Park_u',  'temp', 'pressure', 'humidity', 'wind_speed',\n",
    "       'wind_deg', 'clouds_all', 'weather_main',\n",
    "       'weather_description']].reset_index()"
   ]
  },
  {
   "cell_type": "markdown",
   "metadata": {},
   "source": [
    "# Modeling"
   ]
  },
  {
   "cell_type": "code",
   "execution_count": 195,
   "metadata": {},
   "outputs": [
    {
     "data": {
      "text/html": [
       "<div>\n",
       "<style scoped>\n",
       "    .dataframe tbody tr th:only-of-type {\n",
       "        vertical-align: middle;\n",
       "    }\n",
       "\n",
       "    .dataframe tbody tr th {\n",
       "        vertical-align: top;\n",
       "    }\n",
       "\n",
       "    .dataframe thead th {\n",
       "        text-align: right;\n",
       "    }\n",
       "</style>\n",
       "<table border=\"1\" class=\"dataframe\">\n",
       "  <thead>\n",
       "    <tr style=\"text-align: right;\">\n",
       "      <th></th>\n",
       "      <th>temp</th>\n",
       "      <th>pressure</th>\n",
       "      <th>humidity</th>\n",
       "      <th>hour</th>\n",
       "      <th>weekday</th>\n",
       "    </tr>\n",
       "  </thead>\n",
       "  <tbody>\n",
       "    <tr>\n",
       "      <th>0</th>\n",
       "      <td>26.72</td>\n",
       "      <td>1008.0</td>\n",
       "      <td>52.0</td>\n",
       "      <td>00:00:00</td>\n",
       "      <td>2</td>\n",
       "    </tr>\n",
       "    <tr>\n",
       "      <th>1</th>\n",
       "      <td>NaN</td>\n",
       "      <td>NaN</td>\n",
       "      <td>NaN</td>\n",
       "      <td>00:00:00</td>\n",
       "      <td>2</td>\n",
       "    </tr>\n",
       "    <tr>\n",
       "      <th>2</th>\n",
       "      <td>NaN</td>\n",
       "      <td>NaN</td>\n",
       "      <td>NaN</td>\n",
       "      <td>00:00:00</td>\n",
       "      <td>2</td>\n",
       "    </tr>\n",
       "    <tr>\n",
       "      <th>3</th>\n",
       "      <td>NaN</td>\n",
       "      <td>NaN</td>\n",
       "      <td>NaN</td>\n",
       "      <td>00:00:00</td>\n",
       "      <td>2</td>\n",
       "    </tr>\n",
       "    <tr>\n",
       "      <th>4</th>\n",
       "      <td>26.47</td>\n",
       "      <td>1008.0</td>\n",
       "      <td>55.0</td>\n",
       "      <td>01:00:00</td>\n",
       "      <td>2</td>\n",
       "    </tr>\n",
       "  </tbody>\n",
       "</table>\n",
       "</div>"
      ],
      "text/plain": [
       "    temp  pressure  humidity     hour  weekday\n",
       "0  26.72    1008.0      52.0 00:00:00        2\n",
       "1    NaN       NaN       NaN 00:00:00        2\n",
       "2    NaN       NaN       NaN 00:00:00        2\n",
       "3    NaN       NaN       NaN 00:00:00        2\n",
       "4  26.47    1008.0      55.0 01:00:00        2"
      ]
     },
     "execution_count": 195,
     "metadata": {},
     "output_type": "execute_result"
    }
   ],
   "source": [
    "X.head()"
   ]
  },
  {
   "cell_type": "code",
   "execution_count": 197,
   "metadata": {},
   "outputs": [
    {
     "data": {
      "text/plain": [
       "(7.946487195093166, 7.495530301666456)"
      ]
     },
     "execution_count": 197,
     "metadata": {},
     "output_type": "execute_result"
    }
   ],
   "source": [
    "# Modeling - baseline\n",
    "y = df_model['Morris_u']\n",
    "X =  df_model[['temp', 'pressure', 'humidity']]\n",
    "\n",
    "X_train, X_test, y_train, y_test = train_test_split(X, y, \n",
    "                    test_size=0.25, random_state=123)\n",
    "lr = LinearRegression()\n",
    "lr_mod = lr.fit(X_train, y_train)\n",
    "y_pred = lr_mod.predict(X_test)\n",
    "y_predt = lr_mod.predict(X_train)\n",
    "mean_absolute_error(y_train, y_predt),mean_absolute_error(y_test, y_pred)"
   ]
  },
  {
   "cell_type": "code",
   "execution_count": null,
   "metadata": {},
   "outputs": [],
   "source": []
  }
 ],
 "metadata": {
  "kernelspec": {
   "display_name": "Python 3",
   "language": "python",
   "name": "python3"
  },
  "language_info": {
   "codemirror_mode": {
    "name": "ipython",
    "version": 3
   },
   "file_extension": ".py",
   "mimetype": "text/x-python",
   "name": "python",
   "nbconvert_exporter": "python",
   "pygments_lexer": "ipython3",
   "version": "3.7.3"
  }
 },
 "nbformat": 4,
 "nbformat_minor": 2
}
