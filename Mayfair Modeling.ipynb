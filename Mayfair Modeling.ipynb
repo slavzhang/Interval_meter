{
 "cells": [
  {
   "cell_type": "code",
   "execution_count": 2,
   "metadata": {},
   "outputs": [
    {
     "name": "stderr",
     "output_type": "stream",
     "text": [
      "C:\\Users\\szhang\\AppData\\Roaming\\Python\\Python37\\site-packages\\pandas\\compat\\_optional.py:138: UserWarning: Pandas requires version '2.7.0' or newer of 'numexpr' (version '2.6.9' currently installed).\n",
      "  warnings.warn(msg, UserWarning)\n"
     ]
    }
   ],
   "source": [
    "import pandas as pd\n",
    "import numpy as np\n",
    "import datetime\n",
    "import sqlite3\n",
    "from pandas.tseries.holiday import USFederalHolidayCalendar as uscal\n",
    "\n",
    "import requests\n",
    "import json\n",
    "\n",
    "import matplotlib.pyplot as plt\n",
    "import seaborn as sns\n",
    "\n",
    "#import statsmodels.api as sm\n",
    "from sklearn.linear_model import LinearRegression\n",
    "from sklearn import model_selection\n",
    "from sklearn.model_selection import KFold\n",
    "from sklearn.model_selection import train_test_split\n",
    "from sklearn.metrics import mean_absolute_error,mean_squared_error\n",
    "from sklearn.metrics import mean_absolute_percentage_error\n",
    "from sklearn.feature_selection import SelectKBest\n",
    "from sklearn.feature_selection import f_classif\n",
    "from sklearn.inspection import permutation_importance\n",
    "\n",
    "import xgboost\n",
    "from sklearn.ensemble import RandomForestRegressor\n",
    "from sklearn.ensemble import ExtraTreesRegressor\n",
    "from sklearn.ensemble import BaggingRegressor\n",
    "from sklearn.ensemble import GradientBoostingRegressor\n",
    "\n",
    "from sklearn.svm import SVR\n",
    "%matplotlib inline"
   ]
  },
  {
   "cell_type": "code",
   "execution_count": 3,
   "metadata": {},
   "outputs": [],
   "source": [
    "model_prep = pd.read_csv('Mayfair_all.csv')"
   ]
  },
  {
   "cell_type": "code",
   "execution_count": 4,
   "metadata": {},
   "outputs": [],
   "source": [
    "training = model_prep[model_prep['timestamp'] < '2020-09-29 00:00:00']\n",
    "testing = model_prep[model_prep['timestamp'] > '2020-10-12 00:00:00']"
   ]
  },
  {
   "cell_type": "code",
   "execution_count": 5,
   "metadata": {},
   "outputs": [
    {
     "data": {
      "text/plain": [
       "(3384, 5326)"
      ]
     },
     "execution_count": 5,
     "metadata": {},
     "output_type": "execute_result"
    }
   ],
   "source": [
    "len(training), len(testing)"
   ]
  },
  {
   "cell_type": "markdown",
   "metadata": {},
   "source": [
    "### Linear Regressor "
   ]
  },
  {
   "cell_type": "code",
   "execution_count": 6,
   "metadata": {},
   "outputs": [
    {
     "data": {
      "text/plain": [
       "(1.4484642696650711, 4.497633725810269)"
      ]
     },
     "execution_count": 6,
     "metadata": {},
     "output_type": "execute_result"
    }
   ],
   "source": [
    "# Modeling - baseline\n",
    "y_train = training['interval_kWh']\n",
    "X_train = training[['temp', 'pressure', 'humidity', \n",
    "                'sunlight_No', 'sunlight_Yes', 'hour']]\n",
    "\n",
    "y_test= testing['interval_kWh']\n",
    "X_test = testing[['temp', 'pressure', 'humidity', \n",
    "                'sunlight_No', 'sunlight_Yes', 'hour']]\n",
    "lr = LinearRegression()\n",
    "lr_mod = lr.fit(X_train, y_train)\n",
    "y_pred = lr_mod.predict(X_test)\n",
    "y_predt = lr_mod.predict(X_train)\n",
    "mean_absolute_error(y_train, y_predt),mean_absolute_error(y_test, y_pred)"
   ]
  },
  {
   "cell_type": "markdown",
   "metadata": {},
   "source": [
    "### RFC Regressor"
   ]
  },
  {
   "cell_type": "code",
   "execution_count": 71,
   "metadata": {},
   "outputs": [
    {
     "data": {
      "text/plain": [
       "(0.3039948226950348, 5.593482367254975)"
      ]
     },
     "execution_count": 71,
     "metadata": {},
     "output_type": "execute_result"
    }
   ],
   "source": [
    "regressor = RandomForestRegressor()\n",
    "lr_mod = regressor.fit(X_train, y_train)\n",
    "y_pred = lr_mod.predict(X_test)\n",
    "y_predt = lr_mod.predict(X_train)\n",
    "mean_absolute_error(y_train, y_predt),mean_absolute_error(y_test, y_pred)"
   ]
  },
  {
   "cell_type": "markdown",
   "metadata": {},
   "source": [
    "### XG-Boost Regressor"
   ]
  },
  {
   "cell_type": "code",
   "execution_count": 8,
   "metadata": {},
   "outputs": [
    {
     "name": "stderr",
     "output_type": "stream",
     "text": [
      "C:\\Users\\szhang\\AppData\\Roaming\\Python\\Python37\\site-packages\\xgboost\\data.py:114: UserWarning: Use subset (sliced data) of np.ndarray is not recommended because it will generate extra copies and increase memory consumption\n",
      "  \"because it will generate extra copies and increase \" +\n",
      "C:\\Users\\szhang\\AppData\\Roaming\\Python\\Python37\\site-packages\\xgboost\\data.py:114: UserWarning: Use subset (sliced data) of np.ndarray is not recommended because it will generate extra copies and increase memory consumption\n",
      "  \"because it will generate extra copies and increase \" +\n"
     ]
    },
    {
     "data": {
      "text/plain": [
       "(0.47273152065953467, 5.168334778124257)"
      ]
     },
     "execution_count": 8,
     "metadata": {},
     "output_type": "execute_result"
    }
   ],
   "source": [
    "regressor = xgboost.XGBRegressor()\n",
    "lr_mod = regressor.fit(X_train, y_train)\n",
    "y_pred = lr_mod.predict(X_test)\n",
    "y_predt = lr_mod.predict(X_train)\n",
    "mean_absolute_error(y_train, y_predt),mean_absolute_error(y_test, y_pred)"
   ]
  },
  {
   "cell_type": "markdown",
   "metadata": {},
   "source": [
    "### Support Vector Regressor"
   ]
  },
  {
   "cell_type": "code",
   "execution_count": 9,
   "metadata": {},
   "outputs": [
    {
     "data": {
      "text/plain": [
       "(1.7270077081797508, 5.6425519141792)"
      ]
     },
     "execution_count": 9,
     "metadata": {},
     "output_type": "execute_result"
    }
   ],
   "source": [
    "regressor = SVR()\n",
    "lr_mod = regressor.fit(X_train, y_train)\n",
    "y_pred = lr_mod.predict(X_test)\n",
    "y_predt = lr_mod.predict(X_train)\n",
    "mean_absolute_error(y_train, y_predt),mean_absolute_error(y_test, y_pred)"
   ]
  },
  {
   "cell_type": "markdown",
   "metadata": {},
   "source": [
    "### Extra Tree Regressor"
   ]
  },
  {
   "cell_type": "code",
   "execution_count": 63,
   "metadata": {},
   "outputs": [
    {
     "data": {
      "text/plain": [
       "(0.00014751773052003423, 5.6046556154712714)"
      ]
     },
     "execution_count": 63,
     "metadata": {},
     "output_type": "execute_result"
    }
   ],
   "source": [
    "regressor = ExtraTreesRegressor()\n",
    "lr_mod = regressor.fit(X_train, y_train)\n",
    "y_pred = lr_mod.predict(X_test)\n",
    "y_predt = lr_mod.predict(X_train)\n",
    "mean_absolute_error(y_train, y_predt),mean_absolute_error(y_test, y_pred)"
   ]
  },
  {
   "cell_type": "markdown",
   "metadata": {},
   "source": [
    "### Bagging Regressor"
   ]
  },
  {
   "cell_type": "code",
   "execution_count": 11,
   "metadata": {},
   "outputs": [
    {
     "data": {
      "text/plain": [
       "(0.3975632308904651, 5.553477882087871)"
      ]
     },
     "execution_count": 11,
     "metadata": {},
     "output_type": "execute_result"
    }
   ],
   "source": [
    "regressor = BaggingRegressor()\n",
    "lr_mod = regressor.fit(X_train, y_train)\n",
    "y_pred = lr_mod.predict(X_test)\n",
    "y_predt = lr_mod.predict(X_train)\n",
    "mean_absolute_error(y_train, y_predt),mean_absolute_error(y_test, y_pred)"
   ]
  },
  {
   "cell_type": "markdown",
   "metadata": {},
   "source": [
    "### Gradient Boosting Regressor"
   ]
  },
  {
   "cell_type": "code",
   "execution_count": 12,
   "metadata": {},
   "outputs": [
    {
     "data": {
      "text/plain": [
       "(0.9118247606872446, 5.163894364581041)"
      ]
     },
     "execution_count": 12,
     "metadata": {},
     "output_type": "execute_result"
    }
   ],
   "source": [
    "regressor = GradientBoostingRegressor()\n",
    "lr_mod = regressor.fit(X_train, y_train)\n",
    "y_pred = lr_mod.predict(X_test)\n",
    "y_predt = lr_mod.predict(X_train)\n",
    "mean_absolute_error(y_train, y_predt),mean_absolute_error(y_test, y_pred)"
   ]
  },
  {
   "cell_type": "markdown",
   "metadata": {},
   "source": [
    "## Further tuning & Additional Variables\n",
    "**Testing models:**\n",
    "- RFC\n",
    "- Extra Tree\n",
    "\n",
    "**Additional Features:**\n",
    "- Season\n",
    "- Temperature from the hour before\n",
    "- Working day vs non-working day"
   ]
  },
  {
   "cell_type": "markdown",
   "metadata": {},
   "source": [
    "### Feature Selection"
   ]
  },
  {
   "cell_type": "code",
   "execution_count": 13,
   "metadata": {},
   "outputs": [],
   "source": [
    "y = model_prep['interval_kWh']\n",
    "X = model_prep[['temp', 'pressure', 'humidity', \n",
    "                'sunlight_No', 'sunlight_Yes', 'hour', 'hour_before', 'workday_0', \"workday_1\",\n",
    "               'season_Fall', 'season_Winter', 'season_Spring', 'season_Summer']]\n",
    "X_train, X_test, y_train, y_test = train_test_split(X, y, \n",
    "                    test_size=0.25, random_state=123)"
   ]
  },
  {
   "cell_type": "code",
   "execution_count": 14,
   "metadata": {},
   "outputs": [
    {
     "data": {
      "text/html": [
       "<div>\n",
       "<style scoped>\n",
       "    .dataframe tbody tr th:only-of-type {\n",
       "        vertical-align: middle;\n",
       "    }\n",
       "\n",
       "    .dataframe tbody tr th {\n",
       "        vertical-align: top;\n",
       "    }\n",
       "\n",
       "    .dataframe thead th {\n",
       "        text-align: right;\n",
       "    }\n",
       "</style>\n",
       "<table border=\"1\" class=\"dataframe\">\n",
       "  <thead>\n",
       "    <tr style=\"text-align: right;\">\n",
       "      <th></th>\n",
       "      <th>0</th>\n",
       "      <th>0</th>\n",
       "    </tr>\n",
       "  </thead>\n",
       "  <tbody>\n",
       "    <tr>\n",
       "      <th>0</th>\n",
       "      <td>temp</td>\n",
       "      <td>21.840031</td>\n",
       "    </tr>\n",
       "    <tr>\n",
       "      <th>1</th>\n",
       "      <td>pressure</td>\n",
       "      <td>15.345796</td>\n",
       "    </tr>\n",
       "    <tr>\n",
       "      <th>2</th>\n",
       "      <td>humidity</td>\n",
       "      <td>7.132486</td>\n",
       "    </tr>\n",
       "    <tr>\n",
       "      <th>3</th>\n",
       "      <td>sunlight_No</td>\n",
       "      <td>8.325654</td>\n",
       "    </tr>\n",
       "    <tr>\n",
       "      <th>4</th>\n",
       "      <td>sunlight_Yes</td>\n",
       "      <td>8.325654</td>\n",
       "    </tr>\n",
       "    <tr>\n",
       "      <th>5</th>\n",
       "      <td>hour</td>\n",
       "      <td>15.122223</td>\n",
       "    </tr>\n",
       "    <tr>\n",
       "      <th>6</th>\n",
       "      <td>hour_before</td>\n",
       "      <td>28.384196</td>\n",
       "    </tr>\n",
       "    <tr>\n",
       "      <th>7</th>\n",
       "      <td>workday_0</td>\n",
       "      <td>1.174201</td>\n",
       "    </tr>\n",
       "    <tr>\n",
       "      <th>8</th>\n",
       "      <td>workday_1</td>\n",
       "      <td>1.174201</td>\n",
       "    </tr>\n",
       "    <tr>\n",
       "      <th>9</th>\n",
       "      <td>season_Fall</td>\n",
       "      <td>3.002063</td>\n",
       "    </tr>\n",
       "    <tr>\n",
       "      <th>10</th>\n",
       "      <td>season_Winter</td>\n",
       "      <td>9.645074</td>\n",
       "    </tr>\n",
       "    <tr>\n",
       "      <th>11</th>\n",
       "      <td>season_Spring</td>\n",
       "      <td>10.201563</td>\n",
       "    </tr>\n",
       "    <tr>\n",
       "      <th>12</th>\n",
       "      <td>season_Summer</td>\n",
       "      <td>29.671401</td>\n",
       "    </tr>\n",
       "  </tbody>\n",
       "</table>\n",
       "</div>"
      ],
      "text/plain": [
       "                0          0\n",
       "0            temp  21.840031\n",
       "1        pressure  15.345796\n",
       "2        humidity   7.132486\n",
       "3     sunlight_No   8.325654\n",
       "4    sunlight_Yes   8.325654\n",
       "5            hour  15.122223\n",
       "6     hour_before  28.384196\n",
       "7       workday_0   1.174201\n",
       "8       workday_1   1.174201\n",
       "9     season_Fall   3.002063\n",
       "10  season_Winter   9.645074\n",
       "11  season_Spring  10.201563\n",
       "12  season_Summer  29.671401"
      ]
     },
     "execution_count": 14,
     "metadata": {},
     "output_type": "execute_result"
    }
   ],
   "source": [
    "best_features = SelectKBest(score_func=f_classif, k='all')\n",
    "fit = best_features.fit(X,y)\n",
    "df_scores = pd.DataFrame(fit.scores_)\n",
    "df_columns = pd.DataFrame(X.columns)\n",
    "feature_scores = pd.concat([df_columns, df_scores],axis=1)\n",
    "feature_scores"
   ]
  },
  {
   "cell_type": "code",
   "execution_count": 15,
   "metadata": {},
   "outputs": [],
   "source": [
    "training = model_prep[model_prep['timestamp'] < '2020-09-29 00:00:00']\n",
    "testing = model_prep[model_prep['timestamp'] > '2020-10-12 00:00:00']\n",
    "\n",
    "y_train = training['interval_kWh']\n",
    "X_train = training[['temp', 'pressure', 'humidity', \n",
    "                'sunlight_No', 'sunlight_Yes', 'hour', 'hour_before', 'workday_0', \"workday_1\",\n",
    "               'season_Fall', 'season_Winter', 'season_Spring', 'season_Summer']]\n",
    "\n",
    "y_test= testing['interval_kWh']\n",
    "X_test = testing[['temp', 'pressure', 'humidity', \n",
    "                'sunlight_No', 'sunlight_Yes', 'hour', 'hour_before', 'workday_0', \"workday_1\",\n",
    "               'season_Fall', 'season_Winter', 'season_Spring', 'season_Summer']]"
   ]
  },
  {
   "cell_type": "markdown",
   "metadata": {},
   "source": [
    "### RFC "
   ]
  },
  {
   "cell_type": "code",
   "execution_count": 118,
   "metadata": {},
   "outputs": [
    {
     "data": {
      "text/plain": [
       "(0.3040841513002354, 5.62380893428464)"
      ]
     },
     "execution_count": 118,
     "metadata": {},
     "output_type": "execute_result"
    }
   ],
   "source": [
    "# More features for RFC\n",
    "regressor = RandomForestRegressor()\n",
    "lr_mod = regressor.fit(X_train, y_train)\n",
    "y_pred = lr_mod.predict(X_test)\n",
    "y_predt = lr_mod.predict(X_train)\n",
    "mean_absolute_error(y_train, y_predt),mean_absolute_error(y_test, y_pred)"
   ]
  },
  {
   "cell_type": "code",
   "execution_count": 119,
   "metadata": {},
   "outputs": [
    {
     "name": "stderr",
     "output_type": "stream",
     "text": [
      "C:\\Users\\szhang\\AppData\\Local\\Continuum\\anaconda3\\lib\\site-packages\\ipykernel_launcher.py:1: SettingWithCopyWarning: \n",
      "A value is trying to be set on a copy of a slice from a DataFrame.\n",
      "Try using .loc[row_indexer,col_indexer] = value instead\n",
      "\n",
      "See the caveats in the documentation: https://pandas.pydata.org/pandas-docs/stable/user_guide/indexing.html#returning-a-view-versus-a-copy\n",
      "  \"\"\"Entry point for launching an IPython kernel.\n",
      "C:\\Users\\szhang\\AppData\\Local\\Continuum\\anaconda3\\lib\\site-packages\\ipykernel_launcher.py:2: SettingWithCopyWarning: \n",
      "A value is trying to be set on a copy of a slice from a DataFrame.\n",
      "Try using .loc[row_indexer,col_indexer] = value instead\n",
      "\n",
      "See the caveats in the documentation: https://pandas.pydata.org/pandas-docs/stable/user_guide/indexing.html#returning-a-view-versus-a-copy\n",
      "  \n"
     ]
    }
   ],
   "source": [
    "training['pred_usage'] = y_predt\n",
    "testing['pred_usage'] = y_pred"
   ]
  },
  {
   "cell_type": "code",
   "execution_count": 124,
   "metadata": {},
   "outputs": [
    {
     "data": {
      "text/plain": [
       "<matplotlib.legend.Legend at 0x280b5af6828>"
      ]
     },
     "execution_count": 124,
     "metadata": {},
     "output_type": "execute_result"
    },
    {
     "data": {
      "image/png": "[encoded data removed]",
      "text/plain": [
       "<Figure size 1080x216 with 1 Axes>"
      ]
     },
     "metadata": {
      "needs_background": "light"
     },
     "output_type": "display_data"
    }
   ],
   "source": [
    "# Sample visualization for RFC results on training dataset\n",
    "plt.figure(figsize=(15,3))\n",
    "plt.plot(training['timestamp'][2100:2300], training['interval_kWh'][2100:2300], linewidth = 2, label = 'Actual kWh')\n",
    "plt.plot(training['timestamp'][2100:2300], training['pred_usage'][2100:2300], alpha=0.9, color = 'r', linestyle = '--', label = 'Predicted kWh')\n",
    "plt.xticks(training['timestamp'][2100:2300:20], rotation = 45)\n",
    "plt.legend()"
   ]
  },
  {
   "cell_type": "markdown",
   "metadata": {},
   "source": [
    "### Extra Trees"
   ]
  },
  {
   "cell_type": "markdown",
   "metadata": {},
   "source": [
    "## Visualization\n",
    "- Lav to do: actual vs prediction graphs to demonstrate model accuracy\n",
    "- Lav to do: saving visualization"
   ]
  },
  {
   "cell_type": "code",
   "execution_count": 125,
   "metadata": {},
   "outputs": [
    {
     "data": {
      "text/plain": [
       "(9.550827425564668e-05, 5.6295064784078095)"
      ]
     },
     "execution_count": 125,
     "metadata": {},
     "output_type": "execute_result"
    }
   ],
   "source": [
    "# More features for RFC\n",
    "regressor = ExtraTreesRegressor()\n",
    "lr_mod = regressor.fit(X_train, y_train)\n",
    "y_pred = lr_mod.predict(X_test)\n",
    "y_predt = lr_mod.predict(X_train)\n",
    "mean_absolute_error(y_train, y_predt),mean_absolute_error(y_test, y_pred)"
   ]
  },
  {
   "cell_type": "markdown",
   "metadata": {},
   "source": [
    "### Permutation Importance - Extra Tree\n",
    "result = permutation_importance(regressor, X_test, y_test, n_repeats=10,\n",
    "                                random_state=42, n_jobs=2)\n",
    "sorted_idx = result.importances_mean.argsort()\n",
    "\n",
    "fig, ax = plt.subplots(figsize=(15, 10))\n",
    "ax.boxplot(result.importances[sorted_idx].T,\n",
    "           vert=False, labels=X_test.columns[sorted_idx])\n",
    "ax.set_title(\"Permutation Importances - test\")\n",
    "fig.tight_layout()"
   ]
  },
  {
   "cell_type": "markdown",
   "metadata": {},
   "source": [
    "### Overall:\n",
    "- Extra Tree performs slightly better on testing set but with a bit of overfitting issues\n",
    "- Extra Tree is performing close to perfect for training set"
   ]
  },
  {
   "cell_type": "code",
   "execution_count": 126,
   "metadata": {},
   "outputs": [
    {
     "name": "stderr",
     "output_type": "stream",
     "text": [
      "C:\\Users\\szhang\\AppData\\Local\\Continuum\\anaconda3\\lib\\site-packages\\ipykernel_launcher.py:1: SettingWithCopyWarning: \n",
      "A value is trying to be set on a copy of a slice from a DataFrame.\n",
      "Try using .loc[row_indexer,col_indexer] = value instead\n",
      "\n",
      "See the caveats in the documentation: https://pandas.pydata.org/pandas-docs/stable/user_guide/indexing.html#returning-a-view-versus-a-copy\n",
      "  \"\"\"Entry point for launching an IPython kernel.\n",
      "C:\\Users\\szhang\\AppData\\Local\\Continuum\\anaconda3\\lib\\site-packages\\ipykernel_launcher.py:2: SettingWithCopyWarning: \n",
      "A value is trying to be set on a copy of a slice from a DataFrame.\n",
      "Try using .loc[row_indexer,col_indexer] = value instead\n",
      "\n",
      "See the caveats in the documentation: https://pandas.pydata.org/pandas-docs/stable/user_guide/indexing.html#returning-a-view-versus-a-copy\n",
      "  \n"
     ]
    }
   ],
   "source": [
    "training['pred_usage'] = y_predt\n",
    "testing['pred_usage'] = y_pred"
   ]
  },
  {
   "cell_type": "code",
   "execution_count": 127,
   "metadata": {},
   "outputs": [
    {
     "name": "stderr",
     "output_type": "stream",
     "text": [
      "C:\\Users\\szhang\\AppData\\Local\\Continuum\\anaconda3\\lib\\site-packages\\matplotlib\\cbook\\__init__.py:1377: FutureWarning: Support for multi-dimensional indexing (e.g. `obj[:, None]`) is deprecated and will be removed in a future version.  Convert to a numpy array before indexing instead.\n",
      "  x[:, None]\n",
      "C:\\Users\\szhang\\AppData\\Local\\Continuum\\anaconda3\\lib\\site-packages\\matplotlib\\axes\\_base.py:237: FutureWarning: Support for multi-dimensional indexing (e.g. `obj[:, None]`) is deprecated and will be removed in a future version.  Convert to a numpy array before indexing instead.\n",
      "  x = x[:, np.newaxis]\n",
      "C:\\Users\\szhang\\AppData\\Local\\Continuum\\anaconda3\\lib\\site-packages\\matplotlib\\axes\\_base.py:239: FutureWarning: Support for multi-dimensional indexing (e.g. `obj[:, None]`) is deprecated and will be removed in a future version.  Convert to a numpy array before indexing instead.\n",
      "  y = y[:, np.newaxis]\n"
     ]
    },
    {
     "data": {
      "text/plain": [
       "<matplotlib.legend.Legend at 0x280b49a6a58>"
      ]
     },
     "execution_count": 127,
     "metadata": {},
     "output_type": "execute_result"
    },
    {
     "data": {
      "image/png": "[encoded data removed]",
      "text/plain": [
       "<Figure size 1080x216 with 1 Axes>"
      ]
     },
     "metadata": {
      "needs_background": "light"
     },
     "output_type": "display_data"
    }
   ],
   "source": [
    "# Sample visualization for Extra Tree results on training dataset\n",
    "plt.figure(figsize=(15,3))\n",
    "plt.plot(training['timestamp'][2100:2300], training['interval_kWh'][2100:2300], linewidth = 2, label = 'Actual kWh')\n",
    "plt.plot(training['timestamp'][2100:2300], training['pred_usage'][2100:2300], alpha=0.9, color = 'r', linestyle = '--', label = 'Predicted kWh')\n",
    "plt.xticks(training['timestamp'][2100:2300:20], rotation = 45)\n",
    "plt.legend()"
   ]
  },
  {
   "cell_type": "markdown",
   "metadata": {},
   "source": [
    "### Saving calculation using extra trees"
   ]
  },
  {
   "cell_type": "code",
   "execution_count": 21,
   "metadata": {},
   "outputs": [
    {
     "data": {
      "text/plain": [
       "Index(['meter_uid', 'utility', 'utility_service_id', 'utility_billing_account',\n",
       "       'utility_service_address', 'utility_meter_number',\n",
       "       'utility_tariff_name', 'bill_start_date', 'bill_end_date', 'bill_days',\n",
       "       'bill_statement_date', 'bill_total_kWh', 'bill_total', 'source',\n",
       "       'updated', 'bill_volume', 'bill_total_unit',\n",
       "       'Winter Usage On Peak_cost', 'Winter Usage On Peak_kwh',\n",
       "       'Winter Usage Super Off Peak_cost', 'Winter Usage Super Off Peak_kwh',\n",
       "       'Winter Usage Off Peak_cost', 'Winter Usage Off Peak_kwh',\n",
       "       'Demand_cost', 'Demand_kw', 'pge_details_baseline_territory',\n",
       "       'pge_details_net_generation', 'pge_details_serial',\n",
       "       'pge_details_consumption', 'pge_details_rotating_outage_block',\n",
       "       'Winter Usage Part Peak_cost', 'Winter Usage Part Peak_kwh',\n",
       "       'supplier_1_total_cost', 'supplier_1_service_id', 'supplier_1_tariff',\n",
       "       'supplier_1_total_volume', 'supplier_1_name', 'supplier_1_type',\n",
       "       'supplier_1_total_unit', 'Summer Usage Off Peak_cost',\n",
       "       'Summer Usage Off Peak_kwh', 'Summer Usage Part Peak_cost',\n",
       "       'Summer Usage Part Peak_kwh', 'Summer Usage On Peak_cost',\n",
       "       'Summer Usage On Peak_kwh'],\n",
       "      dtype='object')"
      ]
     },
     "execution_count": 21,
     "metadata": {},
     "output_type": "execute_result"
    }
   ],
   "source": [
    "bills = pd.read_csv('Mayfair Court Bills.csv')\n",
    "bills.columns"
   ]
  },
  {
   "cell_type": "code",
   "execution_count": 22,
   "metadata": {},
   "outputs": [],
   "source": [
    "bill = bills[['bill_start_date', 'bill_end_date', 'bill_days',\n",
    "       'bill_total_kWh', 'bill_total', 'bill_volume',  'Demand_cost', 'Demand_kw']]"
   ]
  },
  {
   "cell_type": "code",
   "execution_count": 23,
   "metadata": {},
   "outputs": [
    {
     "data": {
      "text/html": [
       "<div>\n",
       "<style scoped>\n",
       "    .dataframe tbody tr th:only-of-type {\n",
       "        vertical-align: middle;\n",
       "    }\n",
       "\n",
       "    .dataframe tbody tr th {\n",
       "        vertical-align: top;\n",
       "    }\n",
       "\n",
       "    .dataframe thead th {\n",
       "        text-align: right;\n",
       "    }\n",
       "</style>\n",
       "<table border=\"1\" class=\"dataframe\">\n",
       "  <thead>\n",
       "    <tr style=\"text-align: right;\">\n",
       "      <th></th>\n",
       "      <th>bill_start_date</th>\n",
       "      <th>bill_end_date</th>\n",
       "      <th>bill_days</th>\n",
       "      <th>bill_total_kWh</th>\n",
       "      <th>bill_total</th>\n",
       "      <th>bill_volume</th>\n",
       "      <th>Demand_cost</th>\n",
       "      <th>Demand_kw</th>\n",
       "    </tr>\n",
       "  </thead>\n",
       "  <tbody>\n",
       "    <tr>\n",
       "      <th>0</th>\n",
       "      <td>03/23/2021</td>\n",
       "      <td>04/22/2021</td>\n",
       "      <td>30</td>\n",
       "      <td>12824.32</td>\n",
       "      <td>2031.69</td>\n",
       "      <td>12824.32</td>\n",
       "      <td>430.44</td>\n",
       "      <td>30.08</td>\n",
       "    </tr>\n",
       "    <tr>\n",
       "      <th>1</th>\n",
       "      <td>02/22/2021</td>\n",
       "      <td>03/23/2021</td>\n",
       "      <td>29</td>\n",
       "      <td>12674.32</td>\n",
       "      <td>2790.83</td>\n",
       "      <td>12674.32</td>\n",
       "      <td>439.95</td>\n",
       "      <td>30.08</td>\n",
       "    </tr>\n",
       "    <tr>\n",
       "      <th>2</th>\n",
       "      <td>01/21/2021</td>\n",
       "      <td>02/22/2021</td>\n",
       "      <td>32</td>\n",
       "      <td>14109.36</td>\n",
       "      <td>2944.02</td>\n",
       "      <td>14109.36</td>\n",
       "      <td>394.79</td>\n",
       "      <td>29.44</td>\n",
       "    </tr>\n",
       "    <tr>\n",
       "      <th>3</th>\n",
       "      <td>12/21/2020</td>\n",
       "      <td>01/21/2021</td>\n",
       "      <td>31</td>\n",
       "      <td>14531.52</td>\n",
       "      <td>2892.81</td>\n",
       "      <td>14531.52</td>\n",
       "      <td>407.95</td>\n",
       "      <td>30.72</td>\n",
       "    </tr>\n",
       "    <tr>\n",
       "      <th>4</th>\n",
       "      <td>11/19/2020</td>\n",
       "      <td>12/21/2020</td>\n",
       "      <td>32</td>\n",
       "      <td>15069.92</td>\n",
       "      <td>2721.12</td>\n",
       "      <td>15069.92</td>\n",
       "      <td>399.60</td>\n",
       "      <td>30.72</td>\n",
       "    </tr>\n",
       "    <tr>\n",
       "      <th>5</th>\n",
       "      <td>10/21/2020</td>\n",
       "      <td>11/19/2020</td>\n",
       "      <td>29</td>\n",
       "      <td>13762.48</td>\n",
       "      <td>2795.77</td>\n",
       "      <td>13762.48</td>\n",
       "      <td>489.18</td>\n",
       "      <td>30.72</td>\n",
       "    </tr>\n",
       "    <tr>\n",
       "      <th>6</th>\n",
       "      <td>09/21/2020</td>\n",
       "      <td>10/21/2020</td>\n",
       "      <td>30</td>\n",
       "      <td>15623.04</td>\n",
       "      <td>3680.66</td>\n",
       "      <td>15623.04</td>\n",
       "      <td>708.40</td>\n",
       "      <td>35.20</td>\n",
       "    </tr>\n",
       "    <tr>\n",
       "      <th>7</th>\n",
       "      <td>08/20/2020</td>\n",
       "      <td>09/21/2020</td>\n",
       "      <td>32</td>\n",
       "      <td>19798.48</td>\n",
       "      <td>4631.19</td>\n",
       "      <td>19798.48</td>\n",
       "      <td>758.25</td>\n",
       "      <td>34.56</td>\n",
       "    </tr>\n",
       "    <tr>\n",
       "      <th>8</th>\n",
       "      <td>07/21/2020</td>\n",
       "      <td>08/20/2020</td>\n",
       "      <td>30</td>\n",
       "      <td>17573.28</td>\n",
       "      <td>4238.56</td>\n",
       "      <td>17573.28</td>\n",
       "      <td>758.25</td>\n",
       "      <td>34.56</td>\n",
       "    </tr>\n",
       "    <tr>\n",
       "      <th>9</th>\n",
       "      <td>06/22/2020</td>\n",
       "      <td>07/21/2020</td>\n",
       "      <td>29</td>\n",
       "      <td>16467.04</td>\n",
       "      <td>4001.29</td>\n",
       "      <td>16467.04</td>\n",
       "      <td>744.20</td>\n",
       "      <td>33.92</td>\n",
       "    </tr>\n",
       "  </tbody>\n",
       "</table>\n",
       "</div>"
      ],
      "text/plain": [
       "  bill_start_date bill_end_date  bill_days  bill_total_kWh  bill_total  \\\n",
       "0      03/23/2021    04/22/2021         30        12824.32     2031.69   \n",
       "1      02/22/2021    03/23/2021         29        12674.32     2790.83   \n",
       "2      01/21/2021    02/22/2021         32        14109.36     2944.02   \n",
       "3      12/21/2020    01/21/2021         31        14531.52     2892.81   \n",
       "4      11/19/2020    12/21/2020         32        15069.92     2721.12   \n",
       "5      10/21/2020    11/19/2020         29        13762.48     2795.77   \n",
       "6      09/21/2020    10/21/2020         30        15623.04     3680.66   \n",
       "7      08/20/2020    09/21/2020         32        19798.48     4631.19   \n",
       "8      07/21/2020    08/20/2020         30        17573.28     4238.56   \n",
       "9      06/22/2020    07/21/2020         29        16467.04     4001.29   \n",
       "\n",
       "   bill_volume  Demand_cost  Demand_kw  \n",
       "0     12824.32       430.44      30.08  \n",
       "1     12674.32       439.95      30.08  \n",
       "2     14109.36       394.79      29.44  \n",
       "3     14531.52       407.95      30.72  \n",
       "4     15069.92       399.60      30.72  \n",
       "5     13762.48       489.18      30.72  \n",
       "6     15623.04       708.40      35.20  \n",
       "7     19798.48       758.25      34.56  \n",
       "8     17573.28       758.25      34.56  \n",
       "9     16467.04       744.20      33.92  "
      ]
     },
     "execution_count": 23,
     "metadata": {},
     "output_type": "execute_result"
    }
   ],
   "source": [
    "bill.head(10)"
   ]
  },
  {
   "cell_type": "code",
   "execution_count": 24,
   "metadata": {},
   "outputs": [],
   "source": [
    "# include the midnight of the first day\n",
    "# greater and equal to for the time bound"
   ]
  },
  {
   "cell_type": "code",
   "execution_count": 25,
   "metadata": {},
   "outputs": [],
   "source": [
    "testing_bill3 = testing[(testing['timestamp'] >= \"2020-12-21 00:00:00\") & (testing['timestamp'] < \"2021-01-21 00:00:00\")]\n",
    "testing_bill2 = testing[(testing['timestamp'] >= \"2021-01-21 00:00:00\") & (testing['timestamp'] < \"2021-02-22 00:00:00\")]\n",
    "testing_bill1 = testing[(testing['timestamp'] >= \"2021-02-22 00:00:00\") & (testing['timestamp'] < \"2021-03-23 00:00:00\")]\n",
    "testing_bill0 = testing[(testing['timestamp'] >= \"2021-03-23 00:00:00\") & (testing['timestamp'] < \"2021-04-22 00:00:00\")]\n",
    "training_bill7 = training[(training['timestamp'] >= \"2020-08-20 00:00:00\") & (training['timestamp'] < \"2020-09-21 00:00:00\")]\n",
    "training_bill8 = training[(training['timestamp'] >= \"2020-07-21 00:00:00\") & (training['timestamp'] < \"2020-08-20 00:00:00\")]"
   ]
  },
  {
   "cell_type": "code",
   "execution_count": 27,
   "metadata": {},
   "outputs": [
    {
     "data": {
      "text/plain": [
       "(14531.520000000011, 18085.734448000017)"
      ]
     },
     "execution_count": 27,
     "metadata": {},
     "output_type": "execute_result"
    }
   ],
   "source": [
    "sum(testing_bill3.interval_kWh), sum(testing_bill3.pred_usage)"
   ]
  },
  {
   "cell_type": "code",
   "execution_count": 28,
   "metadata": {},
   "outputs": [
    {
     "data": {
      "text/plain": [
       "(13645.519999999995, 18115.145936000004)"
      ]
     },
     "execution_count": 28,
     "metadata": {},
     "output_type": "execute_result"
    }
   ],
   "source": [
    "sum(testing_bill2.interval_kWh), sum(testing_bill2.pred_usage)"
   ]
  },
  {
   "cell_type": "code",
   "execution_count": 29,
   "metadata": {},
   "outputs": [
    {
     "data": {
      "text/plain": [
       "(12674.320000000005, 16561.403999999988)"
      ]
     },
     "execution_count": 29,
     "metadata": {},
     "output_type": "execute_result"
    }
   ],
   "source": [
    "sum(testing_bill1.interval_kWh), sum(testing_bill1.pred_usage)"
   ]
  },
  {
   "cell_type": "code",
   "execution_count": 30,
   "metadata": {},
   "outputs": [
    {
     "data": {
      "text/plain": [
       "(12824.32000000001, 16983.032800000015)"
      ]
     },
     "execution_count": 30,
     "metadata": {},
     "output_type": "execute_result"
    }
   ],
   "source": [
    "sum(testing_bill0.interval_kWh), sum(testing_bill0.pred_usage)"
   ]
  },
  {
   "cell_type": "code",
   "execution_count": 31,
   "metadata": {},
   "outputs": [
    {
     "data": {
      "text/plain": [
       "(19798.479999999963, 19798.479999999967)"
      ]
     },
     "execution_count": 31,
     "metadata": {},
     "output_type": "execute_result"
    }
   ],
   "source": [
    "sum(training_bill7.interval_kWh), sum(training_bill7.pred_usage)"
   ]
  },
  {
   "cell_type": "code",
   "execution_count": 32,
   "metadata": {},
   "outputs": [
    {
     "data": {
      "text/plain": [
       "(17573.279999999995, 17573.2656)"
      ]
     },
     "execution_count": 32,
     "metadata": {},
     "output_type": "execute_result"
    }
   ],
   "source": [
    "sum(training_bill8.interval_kWh), sum(training_bill8.pred_usage)"
   ]
  },
  {
   "cell_type": "code",
   "execution_count": null,
   "metadata": {},
   "outputs": [],
   "source": []
  },
  {
   "cell_type": "code",
   "execution_count": null,
   "metadata": {},
   "outputs": [],
   "source": []
  }
 ],
 "metadata": {
  "kernelspec": {
   "display_name": "Python 3",
   "language": "python",
   "name": "python3"
  },
  "language_info": {
   "codemirror_mode": {
    "name": "ipython",
    "version": 3
   },
   "file_extension": ".py",
   "mimetype": "text/x-python",
   "name": "python",
   "nbconvert_exporter": "python",
   "pygments_lexer": "ipython3",
   "version": "3.7.3"
  }
 },
 "nbformat": 4,
 "nbformat_minor": 2
}
