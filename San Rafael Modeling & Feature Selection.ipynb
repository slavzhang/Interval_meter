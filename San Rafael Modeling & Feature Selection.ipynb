{
 "cells": [
  {
   "cell_type": "code",
   "execution_count": 21,
   "metadata": {},
   "outputs": [],
   "source": [
    "import pandas as pd\n",
    "import numpy as np\n",
    "import datetime\n",
    "import sqlite3\n",
    "from pandas.tseries.holiday import USFederalHolidayCalendar as uscal\n",
    "\n",
    "import requests\n",
    "import json\n",
    "\n",
    "import matplotlib.pyplot as plt\n",
    "import seaborn as sns\n",
    "\n",
    "#import statsmodels.api as sm\n",
    "from sklearn.linear_model import LinearRegression\n",
    "from sklearn import model_selection\n",
    "from sklearn.model_selection import KFold\n",
    "from sklearn.model_selection import train_test_split\n",
    "from sklearn.metrics import mean_absolute_error,mean_squared_error\n",
    "from sklearn.metrics import mean_absolute_percentage_error\n",
    "from sklearn.feature_selection import SelectKBest\n",
    "from sklearn.feature_selection import f_classif\n",
    "from sklearn.inspection import permutation_importance\n",
    "\n",
    "import xgboost\n",
    "from sklearn.ensemble import RandomForestRegressor\n",
    "from sklearn.ensemble import ExtraTreesRegressor\n",
    "from sklearn.ensemble import BaggingRegressor\n",
    "from sklearn.ensemble import GradientBoostingRegressor\n",
    "\n",
    "from sklearn.svm import SVR\n",
    "%matplotlib inline"
   ]
  },
  {
   "cell_type": "code",
   "execution_count": 2,
   "metadata": {},
   "outputs": [],
   "source": [
    "model_prep = pd.read_csv('San_Rafael_corrected.csv')"
   ]
  },
  {
   "cell_type": "markdown",
   "metadata": {},
   "source": [
    "### Linear Regressor "
   ]
  },
  {
   "cell_type": "code",
   "execution_count": 3,
   "metadata": {},
   "outputs": [
    {
     "data": {
      "text/plain": [
       "(0.9789856596906998, 1.0111991624177201)"
      ]
     },
     "execution_count": 3,
     "metadata": {},
     "output_type": "execute_result"
    }
   ],
   "source": [
    "# Modeling - baseline\n",
    "y = model_prep['interval_kWh']\n",
    "X = model_prep[['temp', 'pressure', 'humidity', \n",
    "                'sunlight_No', 'sunlight_Yes', 'hour']]\n",
    "\n",
    "X_train, X_test, y_train, y_test = train_test_split(X, y, \n",
    "                    test_size=0.25, random_state=123)\n",
    "lr = LinearRegression()\n",
    "lr_mod = lr.fit(X_train, y_train)\n",
    "y_pred = lr_mod.predict(X_test)\n",
    "y_predt = lr_mod.predict(X_train)\n",
    "mean_absolute_error(y_train, y_predt),mean_absolute_error(y_test, y_pred)"
   ]
  },
  {
   "cell_type": "markdown",
   "metadata": {},
   "source": [
    "### RFC Regressor"
   ]
  },
  {
   "cell_type": "code",
   "execution_count": 4,
   "metadata": {},
   "outputs": [
    {
     "data": {
      "text/plain": [
       "(0.28310258021786133, 0.7843303284011145)"
      ]
     },
     "execution_count": 4,
     "metadata": {},
     "output_type": "execute_result"
    }
   ],
   "source": [
    "regressor = RandomForestRegressor()\n",
    "lr_mod = regressor.fit(X_train, y_train)\n",
    "y_pred = lr_mod.predict(X_test)\n",
    "y_predt = lr_mod.predict(X_train)\n",
    "mean_absolute_error(y_train, y_predt),mean_absolute_error(y_test, y_pred)"
   ]
  },
  {
   "cell_type": "markdown",
   "metadata": {},
   "source": [
    "### XG-Boost Regressor"
   ]
  },
  {
   "cell_type": "code",
   "execution_count": 5,
   "metadata": {},
   "outputs": [
    {
     "name": "stderr",
     "output_type": "stream",
     "text": [
      "C:\\Users\\szhang\\AppData\\Roaming\\Python\\Python37\\site-packages\\xgboost\\data.py:114: UserWarning: Use subset (sliced data) of np.ndarray is not recommended because it will generate extra copies and increase memory consumption\n",
      "  \"because it will generate extra copies and increase \" +\n",
      "C:\\Users\\szhang\\AppData\\Roaming\\Python\\Python37\\site-packages\\xgboost\\data.py:114: UserWarning: Use subset (sliced data) of np.ndarray is not recommended because it will generate extra copies and increase memory consumption\n",
      "  \"because it will generate extra copies and increase \" +\n"
     ]
    },
    {
     "data": {
      "text/plain": [
       "(0.5879266727407103, 0.8144635515214589)"
      ]
     },
     "execution_count": 5,
     "metadata": {},
     "output_type": "execute_result"
    }
   ],
   "source": [
    "X_train, X_test, y_train, y_test = train_test_split(X, y, \n",
    "                    test_size=0.25, random_state=123)\n",
    "model = xgboost.XGBRegressor()\n",
    "lr_mod = model.fit(X_train, y_train)\n",
    "y_pred = lr_mod.predict(X_test)\n",
    "y_predt = lr_mod.predict(X_train)\n",
    "mean_absolute_error(y_train, y_predt),mean_absolute_error(y_test, y_pred)"
   ]
  },
  {
   "cell_type": "markdown",
   "metadata": {},
   "source": [
    "### Support Vector Regressor"
   ]
  },
  {
   "cell_type": "code",
   "execution_count": 6,
   "metadata": {},
   "outputs": [
    {
     "data": {
      "text/plain": [
       "(0.9986014150648178, 1.0411754351584155)"
      ]
     },
     "execution_count": 6,
     "metadata": {},
     "output_type": "execute_result"
    }
   ],
   "source": [
    "regressor = SVR()\n",
    "lr_mod = regressor.fit(X_train, y_train)\n",
    "y_pred = lr_mod.predict(X_test)\n",
    "y_predt = lr_mod.predict(X_train)\n",
    "mean_absolute_error(y_train, y_predt),mean_absolute_error(y_test, y_pred)"
   ]
  },
  {
   "cell_type": "markdown",
   "metadata": {},
   "source": [
    "### Extra Tree Regressor"
   ]
  },
  {
   "cell_type": "code",
   "execution_count": 7,
   "metadata": {},
   "outputs": [
    {
     "data": {
      "text/plain": [
       "(0.0005127851678359475, 0.8167566408931166)"
      ]
     },
     "execution_count": 7,
     "metadata": {},
     "output_type": "execute_result"
    }
   ],
   "source": [
    "regressor = ExtraTreesRegressor()\n",
    "lr_mod = regressor.fit(X_train, y_train)\n",
    "y_pred = lr_mod.predict(X_test)\n",
    "y_predt = lr_mod.predict(X_train)\n",
    "mean_absolute_error(y_train, y_predt),mean_absolute_error(y_test, y_pred)"
   ]
  },
  {
   "cell_type": "markdown",
   "metadata": {},
   "source": [
    "### Bagging Regressor"
   ]
  },
  {
   "cell_type": "code",
   "execution_count": 8,
   "metadata": {},
   "outputs": [
    {
     "data": {
      "text/plain": [
       "(0.3119367436303904, 0.8003328233753703)"
      ]
     },
     "execution_count": 8,
     "metadata": {},
     "output_type": "execute_result"
    }
   ],
   "source": [
    "regressor = BaggingRegressor()\n",
    "lr_mod = regressor.fit(X_train, y_train)\n",
    "y_pred = lr_mod.predict(X_test)\n",
    "y_predt = lr_mod.predict(X_train)\n",
    "mean_absolute_error(y_train, y_predt),mean_absolute_error(y_test, y_pred)"
   ]
  },
  {
   "cell_type": "markdown",
   "metadata": {},
   "source": [
    "### Gradient Boosting Regressor"
   ]
  },
  {
   "cell_type": "code",
   "execution_count": 9,
   "metadata": {},
   "outputs": [
    {
     "data": {
      "text/plain": [
       "(0.7956753786746924, 0.8404808512791467)"
      ]
     },
     "execution_count": 9,
     "metadata": {},
     "output_type": "execute_result"
    }
   ],
   "source": [
    "regressor = GradientBoostingRegressor()\n",
    "lr_mod = regressor.fit(X_train, y_train)\n",
    "y_pred = lr_mod.predict(X_test)\n",
    "y_predt = lr_mod.predict(X_train)\n",
    "mean_absolute_error(y_train, y_predt),mean_absolute_error(y_test, y_pred)"
   ]
  },
  {
   "cell_type": "markdown",
   "metadata": {},
   "source": [
    "## Further tuning & Additional Variables\n",
    "**Testing models:**\n",
    "- RFC\n",
    "- Extra Tree\n",
    "\n",
    "**Additional Features:**\n",
    "- Season\n",
    "- Temperature from the hour before\n",
    "- Working day vs non-working day"
   ]
  },
  {
   "cell_type": "markdown",
   "metadata": {},
   "source": [
    "### Feature Selection"
   ]
  },
  {
   "cell_type": "code",
   "execution_count": 23,
   "metadata": {},
   "outputs": [],
   "source": [
    "y = model_prep['interval_kWh']\n",
    "X = model_prep[['temp', 'pressure', 'humidity', \n",
    "                'sunlight_No', 'sunlight_Yes', 'hour', 'hour_before', 'workday_0', \"workday_1\",\n",
    "               'season_Fall', 'season_Winter', 'season_Spring', 'season_Summer']]\n",
    "X_train, X_test, y_train, y_test = train_test_split(X, y, \n",
    "                    test_size=0.25, random_state=123)"
   ]
  },
  {
   "cell_type": "code",
   "execution_count": 24,
   "metadata": {},
   "outputs": [
    {
     "data": {
      "text/html": [
       "<div>\n",
       "<style scoped>\n",
       "    .dataframe tbody tr th:only-of-type {\n",
       "        vertical-align: middle;\n",
       "    }\n",
       "\n",
       "    .dataframe tbody tr th {\n",
       "        vertical-align: top;\n",
       "    }\n",
       "\n",
       "    .dataframe thead th {\n",
       "        text-align: right;\n",
       "    }\n",
       "</style>\n",
       "<table border=\"1\" class=\"dataframe\">\n",
       "  <thead>\n",
       "    <tr style=\"text-align: right;\">\n",
       "      <th></th>\n",
       "      <th>0</th>\n",
       "      <th>0</th>\n",
       "    </tr>\n",
       "  </thead>\n",
       "  <tbody>\n",
       "    <tr>\n",
       "      <th>0</th>\n",
       "      <td>temp</td>\n",
       "      <td>20.421627</td>\n",
       "    </tr>\n",
       "    <tr>\n",
       "      <th>1</th>\n",
       "      <td>pressure</td>\n",
       "      <td>3.049693</td>\n",
       "    </tr>\n",
       "    <tr>\n",
       "      <th>2</th>\n",
       "      <td>humidity</td>\n",
       "      <td>10.067123</td>\n",
       "    </tr>\n",
       "    <tr>\n",
       "      <th>3</th>\n",
       "      <td>sunlight_No</td>\n",
       "      <td>65.097165</td>\n",
       "    </tr>\n",
       "    <tr>\n",
       "      <th>4</th>\n",
       "      <td>sunlight_Yes</td>\n",
       "      <td>65.097165</td>\n",
       "    </tr>\n",
       "    <tr>\n",
       "      <th>5</th>\n",
       "      <td>hour</td>\n",
       "      <td>40.044439</td>\n",
       "    </tr>\n",
       "    <tr>\n",
       "      <th>6</th>\n",
       "      <td>hour_before</td>\n",
       "      <td>19.617887</td>\n",
       "    </tr>\n",
       "    <tr>\n",
       "      <th>7</th>\n",
       "      <td>workday_0</td>\n",
       "      <td>10.342162</td>\n",
       "    </tr>\n",
       "    <tr>\n",
       "      <th>8</th>\n",
       "      <td>workday_1</td>\n",
       "      <td>10.342162</td>\n",
       "    </tr>\n",
       "    <tr>\n",
       "      <th>9</th>\n",
       "      <td>season_Fall</td>\n",
       "      <td>2.262874</td>\n",
       "    </tr>\n",
       "    <tr>\n",
       "      <th>10</th>\n",
       "      <td>season_Winter</td>\n",
       "      <td>3.221678</td>\n",
       "    </tr>\n",
       "    <tr>\n",
       "      <th>11</th>\n",
       "      <td>season_Spring</td>\n",
       "      <td>1.795944</td>\n",
       "    </tr>\n",
       "    <tr>\n",
       "      <th>12</th>\n",
       "      <td>season_Summer</td>\n",
       "      <td>4.266513</td>\n",
       "    </tr>\n",
       "  </tbody>\n",
       "</table>\n",
       "</div>"
      ],
      "text/plain": [
       "                0          0\n",
       "0            temp  20.421627\n",
       "1        pressure   3.049693\n",
       "2        humidity  10.067123\n",
       "3     sunlight_No  65.097165\n",
       "4    sunlight_Yes  65.097165\n",
       "5            hour  40.044439\n",
       "6     hour_before  19.617887\n",
       "7       workday_0  10.342162\n",
       "8       workday_1  10.342162\n",
       "9     season_Fall   2.262874\n",
       "10  season_Winter   3.221678\n",
       "11  season_Spring   1.795944\n",
       "12  season_Summer   4.266513"
      ]
     },
     "execution_count": 24,
     "metadata": {},
     "output_type": "execute_result"
    }
   ],
   "source": [
    "best_features = SelectKBest(score_func=f_classif, k='all')\n",
    "fit = best_features.fit(X,y)\n",
    "df_scores = pd.DataFrame(fit.scores_)\n",
    "df_columns = pd.DataFrame(X.columns)\n",
    "feature_scores = pd.concat([df_columns, df_scores],axis=1)\n",
    "feature_scores"
   ]
  },
  {
   "cell_type": "markdown",
   "metadata": {},
   "source": [
    "### RFC "
   ]
  },
  {
   "cell_type": "code",
   "execution_count": 26,
   "metadata": {},
   "outputs": [
    {
     "data": {
      "text/plain": [
       "(0.2392776930181265, 0.6614727574943146)"
      ]
     },
     "execution_count": 26,
     "metadata": {},
     "output_type": "execute_result"
    }
   ],
   "source": [
    "# More features for RFC\n",
    "regressor = RandomForestRegressor()\n",
    "lr_mod = regressor.fit(X_train, y_train)\n",
    "y_pred = lr_mod.predict(X_test)\n",
    "y_predt = lr_mod.predict(X_train)\n",
    "mean_absolute_error(y_train, y_predt),mean_absolute_error(y_test, y_pred)"
   ]
  },
  {
   "cell_type": "code",
   "execution_count": 27,
   "metadata": {},
   "outputs": [
    {
     "data": {
      "image/png": "[encoded data removed]",
      "text/plain": [
       "<Figure size 1080x720 with 1 Axes>"
      ]
     },
     "metadata": {
      "needs_background": "light"
     },
     "output_type": "display_data"
    }
   ],
   "source": [
    "result = permutation_importance(regressor, X_test, y_test, n_repeats=10,\n",
    "                                random_state=42, n_jobs=2)\n",
    "sorted_idx = result.importances_mean.argsort()\n",
    "\n",
    "fig, ax = plt.subplots(figsize=(15, 10))\n",
    "ax.boxplot(result.importances[sorted_idx].T,\n",
    "           vert=False, labels=X_test.columns[sorted_idx])\n",
    "ax.set_title(\"Permutation Importances - test\")\n",
    "fig.tight_layout()"
   ]
  },
  {
   "cell_type": "markdown",
   "metadata": {},
   "source": [
    "### Extra Trees"
   ]
  },
  {
   "cell_type": "code",
   "execution_count": 28,
   "metadata": {},
   "outputs": [
    {
     "data": {
      "text/plain": [
       "(9.091845830966446e-15, 0.6696356022327897)"
      ]
     },
     "execution_count": 28,
     "metadata": {},
     "output_type": "execute_result"
    }
   ],
   "source": [
    "# More features for RFC\n",
    "regressor = ExtraTreesRegressor()\n",
    "lr_mod = regressor.fit(X_train, y_train)\n",
    "y_pred = lr_mod.predict(X_test)\n",
    "y_predt = lr_mod.predict(X_train)\n",
    "mean_absolute_error(y_train, y_predt),mean_absolute_error(y_test, y_pred)"
   ]
  },
  {
   "cell_type": "code",
   "execution_count": 29,
   "metadata": {},
   "outputs": [
    {
     "data": {
      "image/png": "[encoded data removed]",
      "text/plain": [
       "<Figure size 1080x720 with 1 Axes>"
      ]
     },
     "metadata": {
      "needs_background": "light"
     },
     "output_type": "display_data"
    }
   ],
   "source": [
    "result = permutation_importance(regressor, X_test, y_test, n_repeats=10,\n",
    "                                random_state=42, n_jobs=2)\n",
    "sorted_idx = result.importances_mean.argsort()\n",
    "\n",
    "fig, ax = plt.subplots(figsize=(15, 10))\n",
    "ax.boxplot(result.importances[sorted_idx].T,\n",
    "           vert=False, labels=X_test.columns[sorted_idx])\n",
    "ax.set_title(\"Permutation Importances - test\")\n",
    "fig.tight_layout()"
   ]
  },
  {
   "cell_type": "code",
   "execution_count": 30,
   "metadata": {},
   "outputs": [
    {
     "data": {
      "text/plain": [
       "(1.1027638926916462e-07, 0.6679056770725664)"
      ]
     },
     "execution_count": 30,
     "metadata": {},
     "output_type": "execute_result"
    }
   ],
   "source": [
    "# More features for Extra tree \n",
    "# Removing two features as they demonstrate importance in the negative range\n",
    "y = model_prep['interval_kWh']\n",
    "X = model_prep[['temp', 'pressure', 'humidity', \n",
    "                 'sunlight_Yes', 'hour', 'hour_before', 'workday_0', \n",
    "               'season_Fall', 'season_Winter', 'season_Spring', 'season_Summer']]\n",
    "X_train, X_test, y_train, y_test = train_test_split(X, y, \n",
    "                    test_size=0.25, random_state=123)\n",
    "regressor = ExtraTreesRegressor()\n",
    "lr_mod = regressor.fit(X_train, y_train)\n",
    "y_pred = lr_mod.predict(X_test)\n",
    "y_predt = lr_mod.predict(X_train)\n",
    "mean_absolute_error(y_train, y_predt),mean_absolute_error(y_test, y_pred)"
   ]
  },
  {
   "cell_type": "markdown",
   "metadata": {},
   "source": [
    "### Overall:\n",
    "- RFC performs slightly better on testing set with less overfitting issues\n",
    "- Extra Tree is performing close to perfect for training set"
   ]
  },
  {
   "cell_type": "code",
   "execution_count": null,
   "metadata": {},
   "outputs": [],
   "source": []
  }
 ],
 "metadata": {
  "kernelspec": {
   "display_name": "Python 3",
   "language": "python",
   "name": "python3"
  },
  "language_info": {
   "codemirror_mode": {
    "name": "ipython",
    "version": 3
   },
   "file_extension": ".py",
   "mimetype": "text/x-python",
   "name": "python",
   "nbconvert_exporter": "python",
   "pygments_lexer": "ipython3",
   "version": "3.7.3"
  }
 },
 "nbformat": 4,
 "nbformat_minor": 2
}
