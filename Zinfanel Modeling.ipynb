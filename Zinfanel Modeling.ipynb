{
 "cells": [
  {
   "cell_type": "code",
   "execution_count": 2,
   "metadata": {},
   "outputs": [
    {
     "name": "stderr",
     "output_type": "stream",
     "text": [
      "C:\\Users\\szhang\\AppData\\Roaming\\Python\\Python37\\site-packages\\pandas\\compat\\_optional.py:138: UserWarning: Pandas requires version '2.7.0' or newer of 'numexpr' (version '2.6.9' currently installed).\n",
      "  warnings.warn(msg, UserWarning)\n"
     ]
    }
   ],
   "source": [
    "import pandas as pd\n",
    "import numpy as np\n",
    "import datetime\n",
    "import sqlite3\n",
    "from pandas.tseries.holiday import USFederalHolidayCalendar as uscal\n",
    "\n",
    "import requests\n",
    "import json\n",
    "\n",
    "import matplotlib.pyplot as plt\n",
    "import seaborn as sns\n",
    "\n",
    "#import statsmodels.api as sm\n",
    "from sklearn.linear_model import LinearRegression\n",
    "from sklearn import model_selection\n",
    "from sklearn.model_selection import KFold\n",
    "from sklearn.model_selection import train_test_split\n",
    "from sklearn.metrics import mean_absolute_error,mean_squared_error\n",
    "from sklearn.metrics import mean_absolute_percentage_error\n",
    "from sklearn.feature_selection import SelectKBest\n",
    "from sklearn.feature_selection import f_classif\n",
    "from sklearn.inspection import permutation_importance\n",
    "\n",
    "import xgboost\n",
    "from sklearn.ensemble import RandomForestRegressor\n",
    "from sklearn.ensemble import ExtraTreesRegressor\n",
    "from sklearn.ensemble import BaggingRegressor\n",
    "from sklearn.ensemble import GradientBoostingRegressor\n",
    "\n",
    "from sklearn.svm import SVR\n",
    "%matplotlib inline"
   ]
  },
  {
   "cell_type": "code",
   "execution_count": 5,
   "metadata": {},
   "outputs": [],
   "source": [
    "model_prep = pd.read_csv('Zinfanel_all.csv')"
   ]
  },
  {
   "cell_type": "code",
   "execution_count": 36,
   "metadata": {},
   "outputs": [],
   "source": [
    "training = model_prep[model_prep['timestamp'] < '2020-07-20 00:00:00']\n",
    "testing = model_prep[model_prep['timestamp'] > '2020-12-04 00:00:00']"
   ]
  },
  {
   "cell_type": "code",
   "execution_count": 47,
   "metadata": {},
   "outputs": [
    {
     "data": {
      "text/plain": [
       "(1968, 3790)"
      ]
     },
     "execution_count": 47,
     "metadata": {},
     "output_type": "execute_result"
    }
   ],
   "source": [
    "len(training), len(testing)"
   ]
  },
  {
   "cell_type": "markdown",
   "metadata": {},
   "source": [
    "### Linear Regressor "
   ]
  },
  {
   "cell_type": "code",
   "execution_count": 37,
   "metadata": {},
   "outputs": [
    {
     "data": {
      "text/plain": [
       "(0.3703574736008637, 0.9947161275706888)"
      ]
     },
     "execution_count": 37,
     "metadata": {},
     "output_type": "execute_result"
    }
   ],
   "source": [
    "# Modeling - baseline\n",
    "y_train = training['interval_kWh']\n",
    "X_train = training[['temp', 'pressure', 'humidity', \n",
    "                'sunlight_No', 'sunlight_Yes', 'hour']]\n",
    "\n",
    "y_test= testing['interval_kWh']\n",
    "X_test = testing[['temp', 'pressure', 'humidity', \n",
    "                'sunlight_No', 'sunlight_Yes', 'hour']]\n",
    "lr = LinearRegression()\n",
    "lr_mod = lr.fit(X_train, y_train)\n",
    "y_pred = lr_mod.predict(X_test)\n",
    "y_predt = lr_mod.predict(X_train)\n",
    "mean_absolute_error(y_train, y_predt),mean_absolute_error(y_test, y_pred)"
   ]
  },
  {
   "cell_type": "markdown",
   "metadata": {},
   "source": [
    "### RFC Regressor"
   ]
  },
  {
   "cell_type": "code",
   "execution_count": 38,
   "metadata": {},
   "outputs": [
    {
     "data": {
      "text/plain": [
       "(0.0996459428861786, 0.7846045044503076)"
      ]
     },
     "execution_count": 38,
     "metadata": {},
     "output_type": "execute_result"
    }
   ],
   "source": [
    "regressor = RandomForestRegressor()\n",
    "lr_mod = regressor.fit(X_train, y_train)\n",
    "y_pred = lr_mod.predict(X_test)\n",
    "y_predt = lr_mod.predict(X_train)\n",
    "mean_absolute_error(y_train, y_predt),mean_absolute_error(y_test, y_pred)"
   ]
  },
  {
   "cell_type": "markdown",
   "metadata": {},
   "source": [
    "### XG-Boost Regressor"
   ]
  },
  {
   "cell_type": "code",
   "execution_count": 39,
   "metadata": {},
   "outputs": [
    {
     "name": "stderr",
     "output_type": "stream",
     "text": [
      "C:\\Users\\szhang\\AppData\\Roaming\\Python\\Python37\\site-packages\\xgboost\\data.py:114: UserWarning: Use subset (sliced data) of np.ndarray is not recommended because it will generate extra copies and increase memory consumption\n",
      "  \"because it will generate extra copies and increase \" +\n",
      "C:\\Users\\szhang\\AppData\\Roaming\\Python\\Python37\\site-packages\\xgboost\\data.py:114: UserWarning: Use subset (sliced data) of np.ndarray is not recommended because it will generate extra copies and increase memory consumption\n",
      "  \"because it will generate extra copies and increase \" +\n"
     ]
    },
    {
     "data": {
      "text/plain": [
       "(0.0923315667045795, 0.709286615656045)"
      ]
     },
     "execution_count": 39,
     "metadata": {},
     "output_type": "execute_result"
    }
   ],
   "source": [
    "regressor = xgboost.XGBRegressor()\n",
    "lr_mod = regressor.fit(X_train, y_train)\n",
    "y_pred = lr_mod.predict(X_test)\n",
    "y_predt = lr_mod.predict(X_train)\n",
    "mean_absolute_error(y_train, y_predt),mean_absolute_error(y_test, y_pred)"
   ]
  },
  {
   "cell_type": "markdown",
   "metadata": {},
   "source": [
    "### Support Vector Regressor"
   ]
  },
  {
   "cell_type": "code",
   "execution_count": 40,
   "metadata": {},
   "outputs": [
    {
     "data": {
      "text/plain": [
       "(1.0794331471598662, 0.9351735053007452)"
      ]
     },
     "execution_count": 40,
     "metadata": {},
     "output_type": "execute_result"
    }
   ],
   "source": [
    "regressor = SVR()\n",
    "lr_mod = regressor.fit(X_train, y_train)\n",
    "y_pred = lr_mod.predict(X_test)\n",
    "y_predt = lr_mod.predict(X_train)\n",
    "mean_absolute_error(y_train, y_predt),mean_absolute_error(y_test, y_pred)"
   ]
  },
  {
   "cell_type": "markdown",
   "metadata": {},
   "source": [
    "### Extra Tree Regressor"
   ]
  },
  {
   "cell_type": "code",
   "execution_count": 41,
   "metadata": {},
   "outputs": [
    {
     "data": {
      "text/plain": [
       "(0.00030447154471997546, 0.72406988707124)"
      ]
     },
     "execution_count": 41,
     "metadata": {},
     "output_type": "execute_result"
    }
   ],
   "source": [
    "regressor = ExtraTreesRegressor()\n",
    "lr_mod = regressor.fit(X_train, y_train)\n",
    "y_pred = lr_mod.predict(X_test)\n",
    "y_predt = lr_mod.predict(X_train)\n",
    "mean_absolute_error(y_train, y_predt),mean_absolute_error(y_test, y_pred)"
   ]
  },
  {
   "cell_type": "markdown",
   "metadata": {},
   "source": [
    "### Bagging Regressor"
   ]
  },
  {
   "cell_type": "code",
   "execution_count": 42,
   "metadata": {},
   "outputs": [
    {
     "data": {
      "text/plain": [
       "(0.10648247967479679, 0.8272518944591027)"
      ]
     },
     "execution_count": 42,
     "metadata": {},
     "output_type": "execute_result"
    }
   ],
   "source": [
    "regressor = BaggingRegressor()\n",
    "lr_mod = regressor.fit(X_train, y_train)\n",
    "y_pred = lr_mod.predict(X_test)\n",
    "y_predt = lr_mod.predict(X_train)\n",
    "mean_absolute_error(y_train, y_predt),mean_absolute_error(y_test, y_pred)"
   ]
  },
  {
   "cell_type": "markdown",
   "metadata": {},
   "source": [
    "### Gradient Boosting Regressor"
   ]
  },
  {
   "cell_type": "code",
   "execution_count": 43,
   "metadata": {},
   "outputs": [
    {
     "data": {
      "text/plain": [
       "(0.2501168619053553, 0.7125142643369642)"
      ]
     },
     "execution_count": 43,
     "metadata": {},
     "output_type": "execute_result"
    }
   ],
   "source": [
    "regressor = GradientBoostingRegressor()\n",
    "lr_mod = regressor.fit(X_train, y_train)\n",
    "y_pred = lr_mod.predict(X_test)\n",
    "y_predt = lr_mod.predict(X_train)\n",
    "mean_absolute_error(y_train, y_predt),mean_absolute_error(y_test, y_pred)"
   ]
  },
  {
   "cell_type": "markdown",
   "metadata": {},
   "source": [
    "## Further tuning & Additional Variables\n",
    "**Testing models:**\n",
    "- RFC\n",
    "- Extra Tree\n",
    "\n",
    "**Additional Features:**\n",
    "- Season\n",
    "- Temperature from the hour before\n",
    "- Working day vs non-working day"
   ]
  },
  {
   "cell_type": "markdown",
   "metadata": {},
   "source": [
    "### Feature Selection"
   ]
  },
  {
   "cell_type": "code",
   "execution_count": 44,
   "metadata": {},
   "outputs": [],
   "source": [
    "y = model_prep['interval_kWh']\n",
    "X = model_prep[['temp', 'pressure', 'humidity', \n",
    "                'sunlight_No', 'sunlight_Yes', 'hour', 'hour_before', 'workday_0', \"workday_1\",\n",
    "               'season_Fall', 'season_Winter', 'season_Spring', 'season_Summer']]\n",
    "X_train, X_test, y_train, y_test = train_test_split(X, y, \n",
    "                    test_size=0.25, random_state=123)"
   ]
  },
  {
   "cell_type": "code",
   "execution_count": 45,
   "metadata": {},
   "outputs": [
    {
     "data": {
      "text/html": [
       "<div>\n",
       "<style scoped>\n",
       "    .dataframe tbody tr th:only-of-type {\n",
       "        vertical-align: middle;\n",
       "    }\n",
       "\n",
       "    .dataframe tbody tr th {\n",
       "        vertical-align: top;\n",
       "    }\n",
       "\n",
       "    .dataframe thead th {\n",
       "        text-align: right;\n",
       "    }\n",
       "</style>\n",
       "<table border=\"1\" class=\"dataframe\">\n",
       "  <thead>\n",
       "    <tr style=\"text-align: right;\">\n",
       "      <th></th>\n",
       "      <th>0</th>\n",
       "      <th>0</th>\n",
       "    </tr>\n",
       "  </thead>\n",
       "  <tbody>\n",
       "    <tr>\n",
       "      <th>0</th>\n",
       "      <td>temp</td>\n",
       "      <td>18.131642</td>\n",
       "    </tr>\n",
       "    <tr>\n",
       "      <th>1</th>\n",
       "      <td>pressure</td>\n",
       "      <td>5.092782</td>\n",
       "    </tr>\n",
       "    <tr>\n",
       "      <th>2</th>\n",
       "      <td>humidity</td>\n",
       "      <td>10.731078</td>\n",
       "    </tr>\n",
       "    <tr>\n",
       "      <th>3</th>\n",
       "      <td>sunlight_No</td>\n",
       "      <td>65.708692</td>\n",
       "    </tr>\n",
       "    <tr>\n",
       "      <th>4</th>\n",
       "      <td>sunlight_Yes</td>\n",
       "      <td>65.708692</td>\n",
       "    </tr>\n",
       "    <tr>\n",
       "      <th>5</th>\n",
       "      <td>hour</td>\n",
       "      <td>6.389894</td>\n",
       "    </tr>\n",
       "    <tr>\n",
       "      <th>6</th>\n",
       "      <td>hour_before</td>\n",
       "      <td>18.057721</td>\n",
       "    </tr>\n",
       "    <tr>\n",
       "      <th>7</th>\n",
       "      <td>workday_0</td>\n",
       "      <td>2.698362</td>\n",
       "    </tr>\n",
       "    <tr>\n",
       "      <th>8</th>\n",
       "      <td>workday_1</td>\n",
       "      <td>2.698362</td>\n",
       "    </tr>\n",
       "    <tr>\n",
       "      <th>9</th>\n",
       "      <td>season_Fall</td>\n",
       "      <td>8.336044</td>\n",
       "    </tr>\n",
       "    <tr>\n",
       "      <th>10</th>\n",
       "      <td>season_Winter</td>\n",
       "      <td>7.659906</td>\n",
       "    </tr>\n",
       "    <tr>\n",
       "      <th>11</th>\n",
       "      <td>season_Spring</td>\n",
       "      <td>10.425805</td>\n",
       "    </tr>\n",
       "    <tr>\n",
       "      <th>12</th>\n",
       "      <td>season_Summer</td>\n",
       "      <td>15.811132</td>\n",
       "    </tr>\n",
       "  </tbody>\n",
       "</table>\n",
       "</div>"
      ],
      "text/plain": [
       "                0          0\n",
       "0            temp  18.131642\n",
       "1        pressure   5.092782\n",
       "2        humidity  10.731078\n",
       "3     sunlight_No  65.708692\n",
       "4    sunlight_Yes  65.708692\n",
       "5            hour   6.389894\n",
       "6     hour_before  18.057721\n",
       "7       workday_0   2.698362\n",
       "8       workday_1   2.698362\n",
       "9     season_Fall   8.336044\n",
       "10  season_Winter   7.659906\n",
       "11  season_Spring  10.425805\n",
       "12  season_Summer  15.811132"
      ]
     },
     "execution_count": 45,
     "metadata": {},
     "output_type": "execute_result"
    }
   ],
   "source": [
    "best_features = SelectKBest(score_func=f_classif, k='all')\n",
    "fit = best_features.fit(X,y)\n",
    "df_scores = pd.DataFrame(fit.scores_)\n",
    "df_columns = pd.DataFrame(X.columns)\n",
    "feature_scores = pd.concat([df_columns, df_scores],axis=1)\n",
    "feature_scores"
   ]
  },
  {
   "cell_type": "code",
   "execution_count": 59,
   "metadata": {},
   "outputs": [],
   "source": [
    "training = model_prep[model_prep['timestamp'] < '2020-07-20 00:00:00']\n",
    "testing = model_prep[model_prep['timestamp'] > '2020-12-04 00:00:00']\n",
    "\n",
    "y_train = training['interval_kWh']\n",
    "X_train = training[['temp', 'pressure', 'humidity', \n",
    "                'sunlight_No', 'sunlight_Yes', 'hour', 'hour_before', 'workday_0', \"workday_1\",\n",
    "               'season_Fall', 'season_Winter', 'season_Spring', 'season_Summer']]\n",
    "\n",
    "y_test= testing['interval_kWh']\n",
    "X_test = testing[['temp', 'pressure', 'humidity', \n",
    "                'sunlight_No', 'sunlight_Yes', 'hour', 'hour_before', 'workday_0', \"workday_1\",\n",
    "               'season_Fall', 'season_Winter', 'season_Spring', 'season_Summer']]"
   ]
  },
  {
   "cell_type": "markdown",
   "metadata": {},
   "source": [
    "### RFC "
   ]
  },
  {
   "cell_type": "code",
   "execution_count": null,
   "metadata": {},
   "outputs": [],
   "source": []
  },
  {
   "cell_type": "code",
   "execution_count": 60,
   "metadata": {},
   "outputs": [
    {
     "data": {
      "text/plain": [
       "(0.07645127235772357, 0.6862705730870708)"
      ]
     },
     "execution_count": 60,
     "metadata": {},
     "output_type": "execute_result"
    }
   ],
   "source": [
    "# More features for RFC\n",
    "regressor = RandomForestRegressor()\n",
    "lr_mod = regressor.fit(X_train, y_train)\n",
    "y_pred = lr_mod.predict(X_test)\n",
    "y_predt = lr_mod.predict(X_train)\n",
    "mean_absolute_error(y_train, y_predt),mean_absolute_error(y_test, y_pred)"
   ]
  },
  {
   "cell_type": "code",
   "execution_count": 61,
   "metadata": {},
   "outputs": [
    {
     "data": {
      "image/png": "[encoded data removed]",
      "text/plain": [
       "<Figure size 1080x720 with 1 Axes>"
      ]
     },
     "metadata": {
      "needs_background": "light"
     },
     "output_type": "display_data"
    }
   ],
   "source": [
    "result = permutation_importance(regressor, X_test, y_test, n_repeats=10,\n",
    "                                random_state=42, n_jobs=2)\n",
    "sorted_idx = result.importances_mean.argsort()\n",
    "\n",
    "fig, ax = plt.subplots(figsize=(15, 10))\n",
    "ax.boxplot(result.importances[sorted_idx].T,\n",
    "           vert=False, labels=X_test.columns[sorted_idx])\n",
    "ax.set_title(\"Permutation Importances - test\")\n",
    "fig.tight_layout()"
   ]
  },
  {
   "cell_type": "markdown",
   "metadata": {},
   "source": [
    "### Extra Trees"
   ]
  },
  {
   "cell_type": "code",
   "execution_count": 62,
   "metadata": {},
   "outputs": [
    {
     "data": {
      "text/plain": [
       "(4.535441579662809e-15, 0.6723644897097623)"
      ]
     },
     "execution_count": 62,
     "metadata": {},
     "output_type": "execute_result"
    }
   ],
   "source": [
    "# More features for RFC\n",
    "regressor = ExtraTreesRegressor()\n",
    "lr_mod = regressor.fit(X_train, y_train)\n",
    "y_pred = lr_mod.predict(X_test)\n",
    "y_predt = lr_mod.predict(X_train)\n",
    "mean_absolute_error(y_train, y_predt),mean_absolute_error(y_test, y_pred)"
   ]
  },
  {
   "cell_type": "code",
   "execution_count": 63,
   "metadata": {},
   "outputs": [
    {
     "data": {
      "image/png": "[encoded data removed]",
      "text/plain": [
       "<Figure size 1080x720 with 1 Axes>"
      ]
     },
     "metadata": {
      "needs_background": "light"
     },
     "output_type": "display_data"
    }
   ],
   "source": [
    "result = permutation_importance(regressor, X_test, y_test, n_repeats=10,\n",
    "                                random_state=42, n_jobs=2)\n",
    "sorted_idx = result.importances_mean.argsort()\n",
    "\n",
    "fig, ax = plt.subplots(figsize=(15, 10))\n",
    "ax.boxplot(result.importances[sorted_idx].T,\n",
    "           vert=False, labels=X_test.columns[sorted_idx])\n",
    "ax.set_title(\"Permutation Importances - test\")\n",
    "fig.tight_layout()"
   ]
  },
  {
   "cell_type": "markdown",
   "metadata": {},
   "source": [
    "### Overall:\n",
    "- Extra Tree performs slightly better on testing set but with a bit of overfitting issues\n",
    "- Extra Tree is performing close to perfect for training set"
   ]
  },
  {
   "cell_type": "code",
   "execution_count": 87,
   "metadata": {},
   "outputs": [
    {
     "name": "stderr",
     "output_type": "stream",
     "text": [
      "C:\\Users\\szhang\\AppData\\Local\\Continuum\\anaconda3\\lib\\site-packages\\ipykernel_launcher.py:1: SettingWithCopyWarning: \n",
      "A value is trying to be set on a copy of a slice from a DataFrame.\n",
      "Try using .loc[row_indexer,col_indexer] = value instead\n",
      "\n",
      "See the caveats in the documentation: https://pandas.pydata.org/pandas-docs/stable/user_guide/indexing.html#returning-a-view-versus-a-copy\n",
      "  \"\"\"Entry point for launching an IPython kernel.\n"
     ]
    }
   ],
   "source": [
    "training['pred_usage'] = y_predt"
   ]
  },
  {
   "cell_type": "markdown",
   "metadata": {},
   "source": [
    "### Saving calculation using extra trees"
   ]
  },
  {
   "cell_type": "code",
   "execution_count": 64,
   "metadata": {},
   "outputs": [
    {
     "data": {
      "text/plain": [
       "Index(['meter_uid', 'utility', 'utility_service_id', 'utility_billing_account',\n",
       "       'utility_service_address', 'utility_meter_number',\n",
       "       'utility_tariff_name', 'bill_start_date', 'bill_end_date', 'bill_days',\n",
       "       'bill_statement_date', 'bill_total_kWh', 'bill_total', 'source',\n",
       "       'updated', 'bill_volume', 'bill_total_unit', 'Demand_cost', 'Demand_kw',\n",
       "       'supplier_1_total_cost', 'supplier_1_service_id', 'supplier_1_tariff',\n",
       "       'supplier_1_total_volume', 'supplier_1_name', 'supplier_1_type',\n",
       "       'supplier_1_total_unit', 'pge_details_net_generation',\n",
       "       'pge_details_baseline_territory', 'pge_details_serial',\n",
       "       'pge_details_consumption', 'pge_details_rotating_outage_block'],\n",
       "      dtype='object')"
      ]
     },
     "execution_count": 64,
     "metadata": {},
     "output_type": "execute_result"
    }
   ],
   "source": [
    "bills = pd.read_csv('Zinfandel electric #3.csv')\n",
    "bills.columns"
   ]
  },
  {
   "cell_type": "code",
   "execution_count": 65,
   "metadata": {},
   "outputs": [],
   "source": [
    "bill = bills[['bill_start_date', 'bill_end_date', 'bill_days',\n",
    "       'bill_total_kWh', 'bill_total', 'bill_volume',  'Demand_cost', 'Demand_kw']]"
   ]
  },
  {
   "cell_type": "code",
   "execution_count": 83,
   "metadata": {},
   "outputs": [
    {
     "data": {
      "text/html": [
       "<div>\n",
       "<style scoped>\n",
       "    .dataframe tbody tr th:only-of-type {\n",
       "        vertical-align: middle;\n",
       "    }\n",
       "\n",
       "    .dataframe tbody tr th {\n",
       "        vertical-align: top;\n",
       "    }\n",
       "\n",
       "    .dataframe thead th {\n",
       "        text-align: right;\n",
       "    }\n",
       "</style>\n",
       "<table border=\"1\" class=\"dataframe\">\n",
       "  <thead>\n",
       "    <tr style=\"text-align: right;\">\n",
       "      <th></th>\n",
       "      <th>bill_start_date</th>\n",
       "      <th>bill_end_date</th>\n",
       "      <th>bill_days</th>\n",
       "      <th>bill_total_kWh</th>\n",
       "      <th>bill_total</th>\n",
       "      <th>bill_volume</th>\n",
       "      <th>Demand_cost</th>\n",
       "      <th>Demand_kw</th>\n",
       "    </tr>\n",
       "  </thead>\n",
       "  <tbody>\n",
       "    <tr>\n",
       "      <th>0</th>\n",
       "      <td>03/15/2021</td>\n",
       "      <td>04/14/2021</td>\n",
       "      <td>30</td>\n",
       "      <td>2868.08</td>\n",
       "      <td>704.73</td>\n",
       "      <td>2868.08</td>\n",
       "      <td>95.33</td>\n",
       "      <td>6.08</td>\n",
       "    </tr>\n",
       "    <tr>\n",
       "      <th>1</th>\n",
       "      <td>02/11/2021</td>\n",
       "      <td>03/15/2021</td>\n",
       "      <td>32</td>\n",
       "      <td>2970.96</td>\n",
       "      <td>690.91</td>\n",
       "      <td>2970.96</td>\n",
       "      <td>82.96</td>\n",
       "      <td>5.76</td>\n",
       "    </tr>\n",
       "    <tr>\n",
       "      <th>2</th>\n",
       "      <td>01/12/2021</td>\n",
       "      <td>02/11/2021</td>\n",
       "      <td>30</td>\n",
       "      <td>2831.36</td>\n",
       "      <td>680.58</td>\n",
       "      <td>2831.36</td>\n",
       "      <td>85.82</td>\n",
       "      <td>6.40</td>\n",
       "    </tr>\n",
       "    <tr>\n",
       "      <th>3</th>\n",
       "      <td>12/11/2020</td>\n",
       "      <td>01/12/2021</td>\n",
       "      <td>32</td>\n",
       "      <td>3061.12</td>\n",
       "      <td>713.54</td>\n",
       "      <td>3061.12</td>\n",
       "      <td>82.49</td>\n",
       "      <td>6.40</td>\n",
       "    </tr>\n",
       "    <tr>\n",
       "      <th>4</th>\n",
       "      <td>11/12/2020</td>\n",
       "      <td>12/11/2020</td>\n",
       "      <td>29</td>\n",
       "      <td>2801.40</td>\n",
       "      <td>654.29</td>\n",
       "      <td>2801.40</td>\n",
       "      <td>89.66</td>\n",
       "      <td>7.36</td>\n",
       "    </tr>\n",
       "    <tr>\n",
       "      <th>5</th>\n",
       "      <td>10/13/2020</td>\n",
       "      <td>11/12/2020</td>\n",
       "      <td>30</td>\n",
       "      <td>3249.52</td>\n",
       "      <td>835.26</td>\n",
       "      <td>3249.52</td>\n",
       "      <td>116.05</td>\n",
       "      <td>6.40</td>\n",
       "    </tr>\n",
       "    <tr>\n",
       "      <th>6</th>\n",
       "      <td>09/11/2020</td>\n",
       "      <td>10/13/2020</td>\n",
       "      <td>32</td>\n",
       "      <td>3368.08</td>\n",
       "      <td>955.94</td>\n",
       "      <td>3368.08</td>\n",
       "      <td>153.77</td>\n",
       "      <td>7.36</td>\n",
       "    </tr>\n",
       "    <tr>\n",
       "      <th>7</th>\n",
       "      <td>08/12/2020</td>\n",
       "      <td>09/11/2020</td>\n",
       "      <td>30</td>\n",
       "      <td>3256.32</td>\n",
       "      <td>915.38</td>\n",
       "      <td>3256.32</td>\n",
       "      <td>147.44</td>\n",
       "      <td>6.72</td>\n",
       "    </tr>\n",
       "    <tr>\n",
       "      <th>8</th>\n",
       "      <td>07/13/2020</td>\n",
       "      <td>08/12/2020</td>\n",
       "      <td>30</td>\n",
       "      <td>3286.88</td>\n",
       "      <td>935.27</td>\n",
       "      <td>3286.88</td>\n",
       "      <td>161.48</td>\n",
       "      <td>7.36</td>\n",
       "    </tr>\n",
       "    <tr>\n",
       "      <th>9</th>\n",
       "      <td>06/12/2020</td>\n",
       "      <td>07/13/2020</td>\n",
       "      <td>31</td>\n",
       "      <td>3561.36</td>\n",
       "      <td>992.72</td>\n",
       "      <td>3561.36</td>\n",
       "      <td>161.48</td>\n",
       "      <td>7.36</td>\n",
       "    </tr>\n",
       "  </tbody>\n",
       "</table>\n",
       "</div>"
      ],
      "text/plain": [
       "  bill_start_date bill_end_date  bill_days  bill_total_kWh  bill_total  \\\n",
       "0      03/15/2021    04/14/2021         30         2868.08      704.73   \n",
       "1      02/11/2021    03/15/2021         32         2970.96      690.91   \n",
       "2      01/12/2021    02/11/2021         30         2831.36      680.58   \n",
       "3      12/11/2020    01/12/2021         32         3061.12      713.54   \n",
       "4      11/12/2020    12/11/2020         29         2801.40      654.29   \n",
       "5      10/13/2020    11/12/2020         30         3249.52      835.26   \n",
       "6      09/11/2020    10/13/2020         32         3368.08      955.94   \n",
       "7      08/12/2020    09/11/2020         30         3256.32      915.38   \n",
       "8      07/13/2020    08/12/2020         30         3286.88      935.27   \n",
       "9      06/12/2020    07/13/2020         31         3561.36      992.72   \n",
       "\n",
       "   bill_volume  Demand_cost  Demand_kw  \n",
       "0      2868.08        95.33       6.08  \n",
       "1      2970.96        82.96       5.76  \n",
       "2      2831.36        85.82       6.40  \n",
       "3      3061.12        82.49       6.40  \n",
       "4      2801.40        89.66       7.36  \n",
       "5      3249.52       116.05       6.40  \n",
       "6      3368.08       153.77       7.36  \n",
       "7      3256.32       147.44       6.72  \n",
       "8      3286.88       161.48       7.36  \n",
       "9      3561.36       161.48       7.36  "
      ]
     },
     "execution_count": 83,
     "metadata": {},
     "output_type": "execute_result"
    }
   ],
   "source": [
    "bill.head(10)"
   ]
  },
  {
   "cell_type": "code",
   "execution_count": 89,
   "metadata": {},
   "outputs": [],
   "source": [
    "testing_bill3 = testing[(testing['timestamp'] > \"2020-12-11 00:00:00\") & (testing['timestamp'] < \"2021-01-12 00:00:00\")]\n",
    "testing_bill2 = testing[(testing['timestamp'] > \"2021-01-12 00:00:00\") & (testing['timestamp'] < \"2021-02-11 00:00:00\")]\n",
    "testing_bill1 = testing[(testing['timestamp'] > \"2021-02-11 00:00:00\") & (testing['timestamp'] < \"2021-03-15 00:00:00\")]\n",
    "testing_bill0 = testing[(testing['timestamp'] > \"2021-03-15 00:00:00\") & (testing['timestamp'] < \"2021-04-14 00:00:00\")]\n",
    "training_bill9 = training[(training['timestamp'] > \"2020-06-12 00:00:00\") & (training['timestamp'] < \"2020-07-13 00:00:00\")]"
   ]
  },
  {
   "cell_type": "code",
   "execution_count": 79,
   "metadata": {},
   "outputs": [
    {
     "data": {
      "text/plain": [
       "(3056.4799999999955, 3300.7921440000005)"
      ]
     },
     "execution_count": 79,
     "metadata": {},
     "output_type": "execute_result"
    }
   ],
   "source": [
    "sum(testing_bill3.interval_kWh), sum(testing_bill3.pred_usage)"
   ]
  },
  {
   "cell_type": "code",
   "execution_count": 80,
   "metadata": {},
   "outputs": [
    {
     "data": {
      "text/plain": [
       "(2827.1199999999994, 3128.681800000002)"
      ]
     },
     "execution_count": 80,
     "metadata": {},
     "output_type": "execute_result"
    }
   ],
   "source": [
    "sum(testing_bill2.interval_kWh), sum(testing_bill2.pred_usage)"
   ]
  },
  {
   "cell_type": "code",
   "execution_count": 81,
   "metadata": {},
   "outputs": [
    {
     "data": {
      "text/plain": [
       "(2966.800000000002, 3238.9076399999944)"
      ]
     },
     "execution_count": 81,
     "metadata": {},
     "output_type": "execute_result"
    }
   ],
   "source": [
    "sum(testing_bill1.interval_kWh), sum(testing_bill1.pred_usage)"
   ]
  },
  {
   "cell_type": "code",
   "execution_count": 82,
   "metadata": {},
   "outputs": [
    {
     "data": {
      "text/plain": [
       "(2864.2400000000025, 3026.9790799999987)"
      ]
     },
     "execution_count": 82,
     "metadata": {},
     "output_type": "execute_result"
    }
   ],
   "source": [
    "sum(testing_bill0.interval_kWh), sum(testing_bill0.pred_usage)"
   ]
  },
  {
   "cell_type": "code",
   "execution_count": 90,
   "metadata": {},
   "outputs": [
    {
     "data": {
      "text/plain": [
       "(3555.1199999999967, 3555.1199999999967)"
      ]
     },
     "execution_count": 90,
     "metadata": {},
     "output_type": "execute_result"
    }
   ],
   "source": [
    "sum(training_bill9.interval_kWh), sum(training_bill9.pred_usage)"
   ]
  },
  {
   "cell_type": "code",
   "execution_count": null,
   "metadata": {},
   "outputs": [],
   "source": []
  }
 ],
 "metadata": {
  "kernelspec": {
   "display_name": "Python 3",
   "language": "python",
   "name": "python3"
  },
  "language_info": {
   "codemirror_mode": {
    "name": "ipython",
    "version": 3
   },
   "file_extension": ".py",
   "mimetype": "text/x-python",
   "name": "python",
   "nbconvert_exporter": "python",
   "pygments_lexer": "ipython3",
   "version": "3.7.3"
  }
 },
 "nbformat": 4,
 "nbformat_minor": 2
}
